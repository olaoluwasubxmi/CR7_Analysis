{
 "cells": [
  {
   "cell_type": "code",
   "execution_count": 1,
   "metadata": {},
   "outputs": [],
   "source": [
    "import pandas as pd\n",
    "import numpy as np\n",
    "\n",
    "import plotly.express as px\n",
    "import plotly.graph_objects as go\n",
    "from plotly.graph_objects import Layout\n",
    "\n",
    "import matplotlib.pyplot as plt\n",
    "from matplotlib.colors import ListedColormap\n",
    "\n",
    "import seaborn as sns\n",
    "\n",
    "from IPython.display import HTML as html_print\n",
    "\n",
    "from datetime import datetime"
   ]
  },
  {
   "cell_type": "code",
   "execution_count": 2,
   "metadata": {},
   "outputs": [
    {
     "name": "stdout",
     "output_type": "stream",
     "text": [
      "This is the color palette of this notebook\n"
     ]
    },
    {
     "data": {
      "image/png": "[encoded data removed]",
      "text/plain": [
       "<Figure size 432x72 with 1 Axes>"
      ]
     },
     "metadata": {
      "needs_background": "light"
     },
     "output_type": "display_data"
    }
   ],
   "source": [
    "colors = [\"black\", '#3b3745', '#cf1d2a', '#e63f50', '#d5792c', '#FCDDB0']\n",
    "print(\"This is the color palette of this notebook\")\n",
    "sns.palplot(sns.color_palette(colors))"
   ]
  },
  {
   "cell_type": "code",
   "execution_count": 3,
   "metadata": {},
   "outputs": [],
   "source": [
    "# Print Information\n",
    "def cprint(title, text, color='#e63e50'):\n",
    "    text = \"<strong style=color:{}>{}:</strong><br>\".format(color, title) + \\\n",
    "            \"<text>{}</text>\".format(text)\n",
    "    return html_print(text)\n",
    "\n",
    "# Hatching Plot\n",
    "def hatching_plot(df, x, y, color, pattern, pattern_shape, title):\n",
    "    fig = px.bar(df, x=x, y=y, \n",
    "                       color=color, pattern_shape=pattern,\n",
    "                       pattern_shape_sequence=pattern_shape)\n",
    "    fig.update_yaxes(showgrid=False, visible=False)\n",
    "    fig.update_xaxes(categoryorder='total descending')\n",
    "    fig.update_traces(hovertemplate=None, texttemplate=\"%{y}\", textfont_color='white', \n",
    "                      marker=dict(line=dict(color='#000000', width=2)),\n",
    "                      marker_color = colors[3])\n",
    "    fig.update_layout(margin=dict(t=80, b=100, l=90, r=60),\n",
    "                            title_text=title,\n",
    "                            xaxis_tickangle=360,\n",
    "                            xaxis=dict(color=\"white\"),\n",
    "                            plot_bgcolor=colors[1], paper_bgcolor=colors[1],\n",
    "                            title_font=dict(size=25, color='white', family=\"Arial\"),\n",
    "                            font=dict(color='black'),\n",
    "                            legend=dict(font=dict(\n",
    "                                    family=\"Courier\",\n",
    "                                    size=12,\n",
    "                                color=\"white\",\n",
    "        \n",
    "                            ))\n",
    "                            )\n",
    "    # Add image\n",
    "    fig.add_layout_image(\n",
    "        dict(\n",
    "            source=\"https://i.imgur.com/2Cv9yGn.png\",\n",
    "            xref=\"paper\", yref=\"paper\",\n",
    "            x= 0.3, y=0.9,\n",
    "            sizex=0.6, sizey=0.6,\n",
    "            opacity = 0.2,\n",
    "            xanchor=\"left\", yanchor=\"top\"\n",
    "        )\n",
    "    )\n",
    "    fig.show()\n",
    "    \n",
    "# Return the winner \n",
    "def winner(row):\n",
    "    if row['result_home'] > row['result_away']:\n",
    "        val = \"H\"\n",
    "    else:\n",
    "        val = \"A\"\n",
    "    return val\n",
    "\n",
    "# Return the winning Club\n",
    "def cr7_club_result(row):\n",
    "    if row['Venue'] == row['winner']:\n",
    "        val = \"win\"\n",
    "    else:\n",
    "        val = \"lose\"\n",
    "    return val\n",
    "\n",
    "def win_goal(row):\n",
    "    if row['Venue'] == row['winner'] and row['at_score_home'] == row['at_score_away']:\n",
    "        if row['winner'] == \"H\":\n",
    "            if row[\"result_home\"] == row[\"at_score_home\"] + 1:\n",
    "                save = \"yes\"\n",
    "            else:\n",
    "                save = \"no\"\n",
    "        else:\n",
    "            if row[\"result_away\"] == row[\"at_score_away\"] + 1:\n",
    "                save = \"yes\"\n",
    "            else:\n",
    "                save = \"no\"\n",
    "    else:\n",
    "        save = \"no\"\n",
    "    return save"
   ]
  },
  {
   "cell_type": "code",
   "execution_count": 4,
   "metadata": {},
   "outputs": [],
   "source": [
    "df = pd.read_csv(\"CR7/data.csv\")\n"
   ]
  },
  {
   "cell_type": "code",
   "execution_count": 5,
   "metadata": {},
   "outputs": [
    {
     "data": {
      "text/html": [
       "<div>\n",
       "<style scoped>\n",
       "    .dataframe tbody tr th:only-of-type {\n",
       "        vertical-align: middle;\n",
       "    }\n",
       "\n",
       "    .dataframe tbody tr th {\n",
       "        vertical-align: top;\n",
       "    }\n",
       "\n",
       "    .dataframe thead th {\n",
       "        text-align: right;\n",
       "    }\n",
       "</style>\n",
       "<table border=\"1\" class=\"dataframe\">\n",
       "  <thead>\n",
       "    <tr style=\"text-align: right;\">\n",
       "      <th></th>\n",
       "      <th>Season</th>\n",
       "      <th>Competition</th>\n",
       "      <th>Matchday</th>\n",
       "      <th>Date</th>\n",
       "      <th>Venue</th>\n",
       "      <th>Club</th>\n",
       "      <th>Opponent</th>\n",
       "      <th>Result</th>\n",
       "      <th>Playing_Position</th>\n",
       "      <th>Minute</th>\n",
       "      <th>At_score</th>\n",
       "      <th>Type</th>\n",
       "      <th>Goal_assist</th>\n",
       "    </tr>\n",
       "  </thead>\n",
       "  <tbody>\n",
       "    <tr>\n",
       "      <th>0</th>\n",
       "      <td>02/03</td>\n",
       "      <td>Liga Portugal</td>\n",
       "      <td>6</td>\n",
       "      <td>10-07-02</td>\n",
       "      <td>H</td>\n",
       "      <td>Sporting CP</td>\n",
       "      <td>Moreirense FC</td>\n",
       "      <td>3:00</td>\n",
       "      <td>LW</td>\n",
       "      <td>34</td>\n",
       "      <td>2:00</td>\n",
       "      <td>Solo run</td>\n",
       "      <td>NaN</td>\n",
       "    </tr>\n",
       "    <tr>\n",
       "      <th>1</th>\n",
       "      <td>02/03</td>\n",
       "      <td>Liga Portugal</td>\n",
       "      <td>6</td>\n",
       "      <td>10-07-02</td>\n",
       "      <td>H</td>\n",
       "      <td>Sporting CP</td>\n",
       "      <td>Moreirense FC</td>\n",
       "      <td>3:00</td>\n",
       "      <td>LW</td>\n",
       "      <td>90+5</td>\n",
       "      <td>3:00</td>\n",
       "      <td>Header</td>\n",
       "      <td>Rui Jorge</td>\n",
       "    </tr>\n",
       "    <tr>\n",
       "      <th>2</th>\n",
       "      <td>02/03</td>\n",
       "      <td>Liga Portugal</td>\n",
       "      <td>8</td>\n",
       "      <td>10/26/02</td>\n",
       "      <td>A</td>\n",
       "      <td>Sporting CP</td>\n",
       "      <td>Boavista FC</td>\n",
       "      <td>1:02</td>\n",
       "      <td>NaN</td>\n",
       "      <td>88</td>\n",
       "      <td>1:02</td>\n",
       "      <td>Right-footed shot</td>\n",
       "      <td>Carlos Martins</td>\n",
       "    </tr>\n",
       "    <tr>\n",
       "      <th>3</th>\n",
       "      <td>02/03</td>\n",
       "      <td>Taca de Portugal Placard</td>\n",
       "      <td>Fourth Round</td>\n",
       "      <td>11/24/02</td>\n",
       "      <td>H</td>\n",
       "      <td>Sporting CP</td>\n",
       "      <td>CD Estarreja</td>\n",
       "      <td>4:01</td>\n",
       "      <td>NaN</td>\n",
       "      <td>67</td>\n",
       "      <td>3:00</td>\n",
       "      <td>Left-footed shot</td>\n",
       "      <td>Cesar Prates</td>\n",
       "    </tr>\n",
       "    <tr>\n",
       "      <th>4</th>\n",
       "      <td>02/03</td>\n",
       "      <td>Taca de Portugal Placard</td>\n",
       "      <td>Fifth Round</td>\n",
       "      <td>12/18/02</td>\n",
       "      <td>H</td>\n",
       "      <td>Sporting CP</td>\n",
       "      <td>FC Oliveira do Hospital</td>\n",
       "      <td>8:01</td>\n",
       "      <td>NaN</td>\n",
       "      <td>13</td>\n",
       "      <td>3:00</td>\n",
       "      <td>NaN</td>\n",
       "      <td>NaN</td>\n",
       "    </tr>\n",
       "  </tbody>\n",
       "</table>\n",
       "</div>"
      ],
      "text/plain": [
       "  Season               Competition      Matchday      Date Venue         Club  \\\n",
       "0  02/03             Liga Portugal             6  10-07-02     H  Sporting CP   \n",
       "1  02/03             Liga Portugal             6  10-07-02     H  Sporting CP   \n",
       "2  02/03             Liga Portugal             8  10/26/02     A  Sporting CP   \n",
       "3  02/03  Taca de Portugal Placard  Fourth Round  11/24/02     H  Sporting CP   \n",
       "4  02/03  Taca de Portugal Placard   Fifth Round  12/18/02     H  Sporting CP   \n",
       "\n",
       "                  Opponent Result Playing_Position Minute At_score  \\\n",
       "0            Moreirense FC   3:00               LW     34     2:00   \n",
       "1            Moreirense FC   3:00               LW   90+5     3:00   \n",
       "2              Boavista FC   1:02              NaN     88     1:02   \n",
       "3             CD Estarreja   4:01              NaN     67     3:00   \n",
       "4  FC Oliveira do Hospital   8:01              NaN     13     3:00   \n",
       "\n",
       "                Type     Goal_assist  \n",
       "0           Solo run             NaN  \n",
       "1             Header       Rui Jorge  \n",
       "2  Right-footed shot  Carlos Martins  \n",
       "3   Left-footed shot    Cesar Prates  \n",
       "4                NaN             NaN  "
      ]
     },
     "execution_count": 5,
     "metadata": {},
     "output_type": "execute_result"
    }
   ],
   "source": [
    "df.head()"
   ]
  },
  {
   "cell_type": "code",
   "execution_count": 6,
   "metadata": {},
   "outputs": [
    {
     "data": {
      "text/html": [
       "<strong style=color:#e63e50>The dataset Columns:</strong><br><text>Index(['Season', 'Competition', 'Matchday', 'Date', 'Venue', 'Club',\n",
       "       'Opponent', 'Result', 'Playing_Position', 'Minute', 'At_score', 'Type',\n",
       "       'Goal_assist'],\n",
       "      dtype='object')</text>"
      ],
      "text/plain": [
       "<IPython.core.display.HTML object>"
      ]
     },
     "execution_count": 6,
     "metadata": {},
     "output_type": "execute_result"
    }
   ],
   "source": [
    "cprint(\"The dataset Columns\", df.columns)"
   ]
  },
  {
   "cell_type": "code",
   "execution_count": 7,
   "metadata": {},
   "outputs": [
    {
     "data": {
      "text/html": [
       "<strong style=color:#e63e50>The size of the dataset:</strong><br><text>(701, 13)</text>"
      ],
      "text/plain": [
       "<IPython.core.display.HTML object>"
      ]
     },
     "execution_count": 7,
     "metadata": {},
     "output_type": "execute_result"
    }
   ],
   "source": [
    "cprint(\"The size of the dataset\", df.shape)\n"
   ]
  },
  {
   "cell_type": "code",
   "execution_count": 8,
   "metadata": {},
   "outputs": [
    {
     "data": {
      "text/html": [
       "<div>\n",
       "<style scoped>\n",
       "    .dataframe tbody tr th:only-of-type {\n",
       "        vertical-align: middle;\n",
       "    }\n",
       "\n",
       "    .dataframe tbody tr th {\n",
       "        vertical-align: top;\n",
       "    }\n",
       "\n",
       "    .dataframe thead th {\n",
       "        text-align: right;\n",
       "    }\n",
       "</style>\n",
       "<table border=\"1\" class=\"dataframe\">\n",
       "  <thead>\n",
       "    <tr style=\"text-align: right;\">\n",
       "      <th></th>\n",
       "      <th>count</th>\n",
       "      <th>unique</th>\n",
       "      <th>top</th>\n",
       "      <th>freq</th>\n",
       "    </tr>\n",
       "  </thead>\n",
       "  <tbody>\n",
       "    <tr>\n",
       "      <th>Season</th>\n",
       "      <td>701</td>\n",
       "      <td>21</td>\n",
       "      <td>14/15</td>\n",
       "      <td>61</td>\n",
       "    </tr>\n",
       "    <tr>\n",
       "      <th>Competition</th>\n",
       "      <td>701</td>\n",
       "      <td>16</td>\n",
       "      <td>LaLiga</td>\n",
       "      <td>311</td>\n",
       "    </tr>\n",
       "    <tr>\n",
       "      <th>Matchday</th>\n",
       "      <td>701</td>\n",
       "      <td>52</td>\n",
       "      <td>Group Stage</td>\n",
       "      <td>75</td>\n",
       "    </tr>\n",
       "    <tr>\n",
       "      <th>Date</th>\n",
       "      <td>701</td>\n",
       "      <td>464</td>\n",
       "      <td>09-12-15</td>\n",
       "      <td>5</td>\n",
       "    </tr>\n",
       "    <tr>\n",
       "      <th>Venue</th>\n",
       "      <td>701</td>\n",
       "      <td>2</td>\n",
       "      <td>H</td>\n",
       "      <td>403</td>\n",
       "    </tr>\n",
       "    <tr>\n",
       "      <th>Club</th>\n",
       "      <td>701</td>\n",
       "      <td>4</td>\n",
       "      <td>Real Madrid</td>\n",
       "      <td>450</td>\n",
       "    </tr>\n",
       "    <tr>\n",
       "      <th>Opponent</th>\n",
       "      <td>701</td>\n",
       "      <td>125</td>\n",
       "      <td>Sevilla FC</td>\n",
       "      <td>27</td>\n",
       "    </tr>\n",
       "    <tr>\n",
       "      <th>Result</th>\n",
       "      <td>701</td>\n",
       "      <td>53</td>\n",
       "      <td>3:00</td>\n",
       "      <td>49</td>\n",
       "    </tr>\n",
       "    <tr>\n",
       "      <th>Playing_Position</th>\n",
       "      <td>643</td>\n",
       "      <td>5</td>\n",
       "      <td>LW</td>\n",
       "      <td>356</td>\n",
       "    </tr>\n",
       "    <tr>\n",
       "      <th>Minute</th>\n",
       "      <td>701</td>\n",
       "      <td>106</td>\n",
       "      <td>90</td>\n",
       "      <td>17</td>\n",
       "    </tr>\n",
       "    <tr>\n",
       "      <th>At_score</th>\n",
       "      <td>701</td>\n",
       "      <td>37</td>\n",
       "      <td>1:00</td>\n",
       "      <td>111</td>\n",
       "    </tr>\n",
       "    <tr>\n",
       "      <th>Type</th>\n",
       "      <td>686</td>\n",
       "      <td>11</td>\n",
       "      <td>Right-footed shot</td>\n",
       "      <td>251</td>\n",
       "    </tr>\n",
       "    <tr>\n",
       "      <th>Goal_assist</th>\n",
       "      <td>459</td>\n",
       "      <td>86</td>\n",
       "      <td>Karim Benzema</td>\n",
       "      <td>44</td>\n",
       "    </tr>\n",
       "  </tbody>\n",
       "</table>\n",
       "</div>"
      ],
      "text/plain": [
       "                 count unique                top freq\n",
       "Season             701     21              14/15   61\n",
       "Competition        701     16             LaLiga  311\n",
       "Matchday           701     52        Group Stage   75\n",
       "Date               701    464           09-12-15    5\n",
       "Venue              701      2                  H  403\n",
       "Club               701      4        Real Madrid  450\n",
       "Opponent           701    125         Sevilla FC   27\n",
       "Result             701     53               3:00   49\n",
       "Playing_Position   643      5                 LW  356\n",
       "Minute             701    106                 90   17\n",
       "At_score           701     37               1:00  111\n",
       "Type               686     11  Right-footed shot  251\n",
       "Goal_assist        459     86      Karim Benzema   44"
      ]
     },
     "execution_count": 8,
     "metadata": {},
     "output_type": "execute_result"
    }
   ],
   "source": [
    "df.describe(include=['object']).T\n"
   ]
  },
  {
   "cell_type": "code",
   "execution_count": 9,
   "metadata": {},
   "outputs": [
    {
     "data": {
      "text/plain": [
       "Season                0\n",
       "Competition           0\n",
       "Matchday              0\n",
       "Date                  0\n",
       "Venue                 0\n",
       "Club                  0\n",
       "Opponent              0\n",
       "Result                0\n",
       "Playing_Position     58\n",
       "Minute                0\n",
       "At_score              0\n",
       "Type                 15\n",
       "Goal_assist         242\n",
       "dtype: int64"
      ]
     },
     "execution_count": 9,
     "metadata": {},
     "output_type": "execute_result"
    }
   ],
   "source": [
    "df.isnull().sum()\n"
   ]
  },
  {
   "cell_type": "code",
   "execution_count": 10,
   "metadata": {},
   "outputs": [
    {
     "data": {
      "text/plain": [
       "array(['LW', nan, 'RW', 'CF', 'LW ', 'CF '], dtype=object)"
      ]
     },
     "execution_count": 10,
     "metadata": {},
     "output_type": "execute_result"
    }
   ],
   "source": [
    "df.Playing_Position.unique()\n"
   ]
  },
  {
   "cell_type": "code",
   "execution_count": 11,
   "metadata": {},
   "outputs": [],
   "source": [
    "# Remove space in values\n",
    "df['Playing_Position'] = df['Playing_Position'].replace('LW ','LW')\n",
    "df['Playing_Position'] = df['Playing_Position'].replace('CF ','CF')"
   ]
  },
  {
   "cell_type": "code",
   "execution_count": 12,
   "metadata": {},
   "outputs": [],
   "source": [
    "# Correct some values in Season Column\n",
    "df['Season'] = df['Season'].replace('Dec-13','12/13')"
   ]
  },
  {
   "cell_type": "code",
   "execution_count": 13,
   "metadata": {},
   "outputs": [],
   "source": [
    "# Change to Datetime type\n",
    "df['Date'] = pd.to_datetime(df.Date)"
   ]
  },
  {
   "cell_type": "code",
   "execution_count": 14,
   "metadata": {},
   "outputs": [],
   "source": [
    "# Create some useful data for visualization\n",
    "df[['result_home','result_away']] = df.Result.str.split(\":\", expand=True)"
   ]
  },
  {
   "cell_type": "code",
   "execution_count": 15,
   "metadata": {},
   "outputs": [],
   "source": [
    "# Keep only number\n",
    "df[\"result_away\"] = df['result_away'].str.extract('(\\d+)').astype(int)\n",
    "\n",
    "# Change column type to integer\n",
    "df[\"result_home\"] = pd.to_numeric(df[\"result_home\"])"
   ]
  },
  {
   "cell_type": "code",
   "execution_count": 16,
   "metadata": {},
   "outputs": [],
   "source": [
    "df['winner'] = df.apply(winner, axis=1)\n",
    "df['cr7_club_result'] = df.apply(cr7_club_result, axis=1)"
   ]
  },
  {
   "cell_type": "code",
   "execution_count": 17,
   "metadata": {},
   "outputs": [],
   "source": [
    "# Create some useful data for visualization\n",
    "df[['at_score_home','at_score_away']] = df.At_score.str.split(\":\", expand=True)\n",
    "\n",
    "# Change to numeric columns\n",
    "df[\"at_score_home\"] = pd.to_numeric(df[\"at_score_home\"])\n",
    "df[\"at_score_away\"] = pd.to_numeric(df[\"at_score_away\"])\n",
    "\n",
    "\n",
    "df['save'] = df.apply(win_goal, axis=1)"
   ]
  },
  {
   "cell_type": "code",
   "execution_count": 18,
   "metadata": {},
   "outputs": [
    {
     "data": {
      "text/html": [
       "<div>\n",
       "<style scoped>\n",
       "    .dataframe tbody tr th:only-of-type {\n",
       "        vertical-align: middle;\n",
       "    }\n",
       "\n",
       "    .dataframe tbody tr th {\n",
       "        vertical-align: top;\n",
       "    }\n",
       "\n",
       "    .dataframe thead th {\n",
       "        text-align: right;\n",
       "    }\n",
       "</style>\n",
       "<table border=\"1\" class=\"dataframe\">\n",
       "  <thead>\n",
       "    <tr style=\"text-align: right;\">\n",
       "      <th></th>\n",
       "      <th>Season</th>\n",
       "      <th>Competition</th>\n",
       "      <th>Matchday</th>\n",
       "      <th>Date</th>\n",
       "      <th>Venue</th>\n",
       "      <th>Club</th>\n",
       "      <th>Opponent</th>\n",
       "      <th>Result</th>\n",
       "      <th>Playing_Position</th>\n",
       "      <th>Minute</th>\n",
       "      <th>At_score</th>\n",
       "      <th>Type</th>\n",
       "      <th>Goal_assist</th>\n",
       "      <th>result_home</th>\n",
       "      <th>result_away</th>\n",
       "      <th>winner</th>\n",
       "      <th>cr7_club_result</th>\n",
       "      <th>at_score_home</th>\n",
       "      <th>at_score_away</th>\n",
       "      <th>save</th>\n",
       "    </tr>\n",
       "  </thead>\n",
       "  <tbody>\n",
       "    <tr>\n",
       "      <th>0</th>\n",
       "      <td>02/03</td>\n",
       "      <td>Liga Portugal</td>\n",
       "      <td>6</td>\n",
       "      <td>2002-10-07</td>\n",
       "      <td>H</td>\n",
       "      <td>Sporting CP</td>\n",
       "      <td>Moreirense FC</td>\n",
       "      <td>3:00</td>\n",
       "      <td>LW</td>\n",
       "      <td>34</td>\n",
       "      <td>2:00</td>\n",
       "      <td>Solo run</td>\n",
       "      <td>NaN</td>\n",
       "      <td>3</td>\n",
       "      <td>0</td>\n",
       "      <td>H</td>\n",
       "      <td>win</td>\n",
       "      <td>2</td>\n",
       "      <td>0</td>\n",
       "      <td>no</td>\n",
       "    </tr>\n",
       "    <tr>\n",
       "      <th>1</th>\n",
       "      <td>02/03</td>\n",
       "      <td>Liga Portugal</td>\n",
       "      <td>6</td>\n",
       "      <td>2002-10-07</td>\n",
       "      <td>H</td>\n",
       "      <td>Sporting CP</td>\n",
       "      <td>Moreirense FC</td>\n",
       "      <td>3:00</td>\n",
       "      <td>LW</td>\n",
       "      <td>90+5</td>\n",
       "      <td>3:00</td>\n",
       "      <td>Header</td>\n",
       "      <td>Rui Jorge</td>\n",
       "      <td>3</td>\n",
       "      <td>0</td>\n",
       "      <td>H</td>\n",
       "      <td>win</td>\n",
       "      <td>3</td>\n",
       "      <td>0</td>\n",
       "      <td>no</td>\n",
       "    </tr>\n",
       "    <tr>\n",
       "      <th>2</th>\n",
       "      <td>02/03</td>\n",
       "      <td>Liga Portugal</td>\n",
       "      <td>8</td>\n",
       "      <td>2002-10-26</td>\n",
       "      <td>A</td>\n",
       "      <td>Sporting CP</td>\n",
       "      <td>Boavista FC</td>\n",
       "      <td>1:02</td>\n",
       "      <td>NaN</td>\n",
       "      <td>88</td>\n",
       "      <td>1:02</td>\n",
       "      <td>Right-footed shot</td>\n",
       "      <td>Carlos Martins</td>\n",
       "      <td>1</td>\n",
       "      <td>2</td>\n",
       "      <td>A</td>\n",
       "      <td>win</td>\n",
       "      <td>1</td>\n",
       "      <td>2</td>\n",
       "      <td>no</td>\n",
       "    </tr>\n",
       "    <tr>\n",
       "      <th>3</th>\n",
       "      <td>02/03</td>\n",
       "      <td>Taca de Portugal Placard</td>\n",
       "      <td>Fourth Round</td>\n",
       "      <td>2002-11-24</td>\n",
       "      <td>H</td>\n",
       "      <td>Sporting CP</td>\n",
       "      <td>CD Estarreja</td>\n",
       "      <td>4:01</td>\n",
       "      <td>NaN</td>\n",
       "      <td>67</td>\n",
       "      <td>3:00</td>\n",
       "      <td>Left-footed shot</td>\n",
       "      <td>Cesar Prates</td>\n",
       "      <td>4</td>\n",
       "      <td>1</td>\n",
       "      <td>H</td>\n",
       "      <td>win</td>\n",
       "      <td>3</td>\n",
       "      <td>0</td>\n",
       "      <td>no</td>\n",
       "    </tr>\n",
       "    <tr>\n",
       "      <th>4</th>\n",
       "      <td>02/03</td>\n",
       "      <td>Taca de Portugal Placard</td>\n",
       "      <td>Fifth Round</td>\n",
       "      <td>2002-12-18</td>\n",
       "      <td>H</td>\n",
       "      <td>Sporting CP</td>\n",
       "      <td>FC Oliveira do Hospital</td>\n",
       "      <td>8:01</td>\n",
       "      <td>NaN</td>\n",
       "      <td>13</td>\n",
       "      <td>3:00</td>\n",
       "      <td>NaN</td>\n",
       "      <td>NaN</td>\n",
       "      <td>8</td>\n",
       "      <td>1</td>\n",
       "      <td>H</td>\n",
       "      <td>win</td>\n",
       "      <td>3</td>\n",
       "      <td>0</td>\n",
       "      <td>no</td>\n",
       "    </tr>\n",
       "  </tbody>\n",
       "</table>\n",
       "</div>"
      ],
      "text/plain": [
       "  Season               Competition      Matchday       Date Venue  \\\n",
       "0  02/03             Liga Portugal             6 2002-10-07     H   \n",
       "1  02/03             Liga Portugal             6 2002-10-07     H   \n",
       "2  02/03             Liga Portugal             8 2002-10-26     A   \n",
       "3  02/03  Taca de Portugal Placard  Fourth Round 2002-11-24     H   \n",
       "4  02/03  Taca de Portugal Placard   Fifth Round 2002-12-18     H   \n",
       "\n",
       "          Club                 Opponent Result Playing_Position Minute  \\\n",
       "0  Sporting CP            Moreirense FC   3:00               LW     34   \n",
       "1  Sporting CP            Moreirense FC   3:00               LW   90+5   \n",
       "2  Sporting CP              Boavista FC   1:02              NaN     88   \n",
       "3  Sporting CP             CD Estarreja   4:01              NaN     67   \n",
       "4  Sporting CP  FC Oliveira do Hospital   8:01              NaN     13   \n",
       "\n",
       "  At_score               Type     Goal_assist  result_home  result_away  \\\n",
       "0     2:00           Solo run             NaN            3            0   \n",
       "1     3:00             Header       Rui Jorge            3            0   \n",
       "2     1:02  Right-footed shot  Carlos Martins            1            2   \n",
       "3     3:00   Left-footed shot    Cesar Prates            4            1   \n",
       "4     3:00                NaN             NaN            8            1   \n",
       "\n",
       "  winner cr7_club_result  at_score_home  at_score_away save  \n",
       "0      H             win              2              0   no  \n",
       "1      H             win              3              0   no  \n",
       "2      A             win              1              2   no  \n",
       "3      H             win              3              0   no  \n",
       "4      H             win              3              0   no  "
      ]
     },
     "execution_count": 18,
     "metadata": {},
     "output_type": "execute_result"
    }
   ],
   "source": [
    "df.head()"
   ]
  },
  {
   "cell_type": "code",
   "execution_count": 19,
   "metadata": {},
   "outputs": [
    {
     "data": {
      "application/vnd.plotly.v1+json": {
       "config": {
        "plotlyServerURL": "https://plot.ly"
       },
       "data": [
        {
         "labels": [
          "Juventus FC",
          "Manchester United",
          "Real Madrid",
          "Sporting CP"
         ],
         "marker": {
          "colors": [
           "#cf1d2a",
           "#e63f50",
           "#d5792c",
           "#FCDDB0"
          ],
          "line": {
           "color": "white",
           "width": 2
          }
         },
         "pull": [
          0,
          0,
          0.2
         ],
         "textfont": {
          "color": "white"
         },
         "textinfo": "percent",
         "textposition": "inside",
         "type": "pie",
         "values": [
          101,
          145,
          450,
          5
         ]
        }
       ],
       "layout": {
        "images": [
         {
          "opacity": 0.3,
          "sizex": 0.7,
          "sizey": 1,
          "source": "https://i.imgur.com/3Uo2tzt.png",
          "xanchor": "left",
          "xref": "paper",
          "y": 0.7,
          "yanchor": "top",
          "yref": "paper"
         }
        ],
        "legend": {
         "font": {
          "color": "white",
          "family": "Courier",
          "size": 12
         }
        },
        "paper_bgcolor": "#3b3745",
        "template": {
         "data": {
          "bar": [
           {
            "error_x": {
             "color": "#2a3f5f"
            },
            "error_y": {
             "color": "#2a3f5f"
            },
            "marker": {
             "line": {
              "color": "#E5ECF6",
              "width": 0.5
             },
             "pattern": {
              "fillmode": "overlay",
              "size": 10,
              "solidity": 0.2
             }
            },
            "type": "bar"
           }
          ],
          "barpolar": [
           {
            "marker": {
             "line": {
              "color": "#E5ECF6",
              "width": 0.5
             },
             "pattern": {
              "fillmode": "overlay",
              "size": 10,
              "solidity": 0.2
             }
            },
            "type": "barpolar"
           }
          ],
          "carpet": [
           {
            "aaxis": {
             "endlinecolor": "#2a3f5f",
             "gridcolor": "white",
             "linecolor": "white",
             "minorgridcolor": "white",
             "startlinecolor": "#2a3f5f"
            },
            "baxis": {
             "endlinecolor": "#2a3f5f",
             "gridcolor": "white",
             "linecolor": "white",
             "minorgridcolor": "white",
             "startlinecolor": "#2a3f5f"
            },
            "type": "carpet"
           }
          ],
          "choropleth": [
           {
            "colorbar": {
             "outlinewidth": 0,
             "ticks": ""
            },
            "type": "choropleth"
           }
          ],
          "contour": [
           {
            "colorbar": {
             "outlinewidth": 0,
             "ticks": ""
            },
            "colorscale": [
             [
              0,
              "#0d0887"
             ],
             [
              0.1111111111111111,
              "#46039f"
             ],
             [
              0.2222222222222222,
              "#7201a8"
             ],
             [
              0.3333333333333333,
              "#9c179e"
             ],
             [
              0.4444444444444444,
              "#bd3786"
             ],
             [
              0.5555555555555556,
              "#d8576b"
             ],
             [
              0.6666666666666666,
              "#ed7953"
             ],
             [
              0.7777777777777778,
              "#fb9f3a"
             ],
             [
              0.8888888888888888,
              "#fdca26"
             ],
             [
              1,
              "#f0f921"
             ]
            ],
            "type": "contour"
           }
          ],
          "contourcarpet": [
           {
            "colorbar": {
             "outlinewidth": 0,
             "ticks": ""
            },
            "type": "contourcarpet"
           }
          ],
          "heatmap": [
           {
            "colorbar": {
             "outlinewidth": 0,
             "ticks": ""
            },
            "colorscale": [
             [
              0,
              "#0d0887"
             ],
             [
              0.1111111111111111,
              "#46039f"
             ],
             [
              0.2222222222222222,
              "#7201a8"
             ],
             [
              0.3333333333333333,
              "#9c179e"
             ],
             [
              0.4444444444444444,
              "#bd3786"
             ],
             [
              0.5555555555555556,
              "#d8576b"
             ],
             [
              0.6666666666666666,
              "#ed7953"
             ],
             [
              0.7777777777777778,
              "#fb9f3a"
             ],
             [
              0.8888888888888888,
              "#fdca26"
             ],
             [
              1,
              "#f0f921"
             ]
            ],
            "type": "heatmap"
           }
          ],
          "heatmapgl": [
           {
            "colorbar": {
             "outlinewidth": 0,
             "ticks": ""
            },
            "colorscale": [
             [
              0,
              "#0d0887"
             ],
             [
              0.1111111111111111,
              "#46039f"
             ],
             [
              0.2222222222222222,
              "#7201a8"
             ],
             [
              0.3333333333333333,
              "#9c179e"
             ],
             [
              0.4444444444444444,
              "#bd3786"
             ],
             [
              0.5555555555555556,
              "#d8576b"
             ],
             [
              0.6666666666666666,
              "#ed7953"
             ],
             [
              0.7777777777777778,
              "#fb9f3a"
             ],
             [
              0.8888888888888888,
              "#fdca26"
             ],
             [
              1,
              "#f0f921"
             ]
            ],
            "type": "heatmapgl"
           }
          ],
          "histogram": [
           {
            "marker": {
             "pattern": {
              "fillmode": "overlay",
              "size": 10,
              "solidity": 0.2
             }
            },
            "type": "histogram"
           }
          ],
          "histogram2d": [
           {
            "colorbar": {
             "outlinewidth": 0,
             "ticks": ""
            },
            "colorscale": [
             [
              0,
              "#0d0887"
             ],
             [
              0.1111111111111111,
              "#46039f"
             ],
             [
              0.2222222222222222,
              "#7201a8"
             ],
             [
              0.3333333333333333,
              "#9c179e"
             ],
             [
              0.4444444444444444,
              "#bd3786"
             ],
             [
              0.5555555555555556,
              "#d8576b"
             ],
             [
              0.6666666666666666,
              "#ed7953"
             ],
             [
              0.7777777777777778,
              "#fb9f3a"
             ],
             [
              0.8888888888888888,
              "#fdca26"
             ],
             [
              1,
              "#f0f921"
             ]
            ],
            "type": "histogram2d"
           }
          ],
          "histogram2dcontour": [
           {
            "colorbar": {
             "outlinewidth": 0,
             "ticks": ""
            },
            "colorscale": [
             [
              0,
              "#0d0887"
             ],
             [
              0.1111111111111111,
              "#46039f"
             ],
             [
              0.2222222222222222,
              "#7201a8"
             ],
             [
              0.3333333333333333,
              "#9c179e"
             ],
             [
              0.4444444444444444,
              "#bd3786"
             ],
             [
              0.5555555555555556,
              "#d8576b"
             ],
             [
              0.6666666666666666,
              "#ed7953"
             ],
             [
              0.7777777777777778,
              "#fb9f3a"
             ],
             [
              0.8888888888888888,
              "#fdca26"
             ],
             [
              1,
              "#f0f921"
             ]
            ],
            "type": "histogram2dcontour"
           }
          ],
          "mesh3d": [
           {
            "colorbar": {
             "outlinewidth": 0,
             "ticks": ""
            },
            "type": "mesh3d"
           }
          ],
          "parcoords": [
           {
            "line": {
             "colorbar": {
              "outlinewidth": 0,
              "ticks": ""
             }
            },
            "type": "parcoords"
           }
          ],
          "pie": [
           {
            "automargin": true,
            "type": "pie"
           }
          ],
          "scatter": [
           {
            "marker": {
             "colorbar": {
              "outlinewidth": 0,
              "ticks": ""
             }
            },
            "type": "scatter"
           }
          ],
          "scatter3d": [
           {
            "line": {
             "colorbar": {
              "outlinewidth": 0,
              "ticks": ""
             }
            },
            "marker": {
             "colorbar": {
              "outlinewidth": 0,
              "ticks": ""
             }
            },
            "type": "scatter3d"
           }
          ],
          "scattercarpet": [
           {
            "marker": {
             "colorbar": {
              "outlinewidth": 0,
              "ticks": ""
             }
            },
            "type": "scattercarpet"
           }
          ],
          "scattergeo": [
           {
            "marker": {
             "colorbar": {
              "outlinewidth": 0,
              "ticks": ""
             }
            },
            "type": "scattergeo"
           }
          ],
          "scattergl": [
           {
            "marker": {
             "colorbar": {
              "outlinewidth": 0,
              "ticks": ""
             }
            },
            "type": "scattergl"
           }
          ],
          "scattermapbox": [
           {
            "marker": {
             "colorbar": {
              "outlinewidth": 0,
              "ticks": ""
             }
            },
            "type": "scattermapbox"
           }
          ],
          "scatterpolar": [
           {
            "marker": {
             "colorbar": {
              "outlinewidth": 0,
              "ticks": ""
             }
            },
            "type": "scatterpolar"
           }
          ],
          "scatterpolargl": [
           {
            "marker": {
             "colorbar": {
              "outlinewidth": 0,
              "ticks": ""
             }
            },
            "type": "scatterpolargl"
           }
          ],
          "scatterternary": [
           {
            "marker": {
             "colorbar": {
              "outlinewidth": 0,
              "ticks": ""
             }
            },
            "type": "scatterternary"
           }
          ],
          "surface": [
           {
            "colorbar": {
             "outlinewidth": 0,
             "ticks": ""
            },
            "colorscale": [
             [
              0,
              "#0d0887"
             ],
             [
              0.1111111111111111,
              "#46039f"
             ],
             [
              0.2222222222222222,
              "#7201a8"
             ],
             [
              0.3333333333333333,
              "#9c179e"
             ],
             [
              0.4444444444444444,
              "#bd3786"
             ],
             [
              0.5555555555555556,
              "#d8576b"
             ],
             [
              0.6666666666666666,
              "#ed7953"
             ],
             [
              0.7777777777777778,
              "#fb9f3a"
             ],
             [
              0.8888888888888888,
              "#fdca26"
             ],
             [
              1,
              "#f0f921"
             ]
            ],
            "type": "surface"
           }
          ],
          "table": [
           {
            "cells": {
             "fill": {
              "color": "#EBF0F8"
             },
             "line": {
              "color": "white"
             }
            },
            "header": {
             "fill": {
              "color": "#C8D4E3"
             },
             "line": {
              "color": "white"
             }
            },
            "type": "table"
           }
          ]
         },
         "layout": {
          "annotationdefaults": {
           "arrowcolor": "#2a3f5f",
           "arrowhead": 0,
           "arrowwidth": 1
          },
          "autotypenumbers": "strict",
          "coloraxis": {
           "colorbar": {
            "outlinewidth": 0,
            "ticks": ""
           }
          },
          "colorscale": {
           "diverging": [
            [
             0,
             "#8e0152"
            ],
            [
             0.1,
             "#c51b7d"
            ],
            [
             0.2,
             "#de77ae"
            ],
            [
             0.3,
             "#f1b6da"
            ],
            [
             0.4,
             "#fde0ef"
            ],
            [
             0.5,
             "#f7f7f7"
            ],
            [
             0.6,
             "#e6f5d0"
            ],
            [
             0.7,
             "#b8e186"
            ],
            [
             0.8,
             "#7fbc41"
            ],
            [
             0.9,
             "#4d9221"
            ],
            [
             1,
             "#276419"
            ]
           ],
           "sequential": [
            [
             0,
             "#0d0887"
            ],
            [
             0.1111111111111111,
             "#46039f"
            ],
            [
             0.2222222222222222,
             "#7201a8"
            ],
            [
             0.3333333333333333,
             "#9c179e"
            ],
            [
             0.4444444444444444,
             "#bd3786"
            ],
            [
             0.5555555555555556,
             "#d8576b"
            ],
            [
             0.6666666666666666,
             "#ed7953"
            ],
            [
             0.7777777777777778,
             "#fb9f3a"
            ],
            [
             0.8888888888888888,
             "#fdca26"
            ],
            [
             1,
             "#f0f921"
            ]
           ],
           "sequentialminus": [
            [
             0,
             "#0d0887"
            ],
            [
             0.1111111111111111,
             "#46039f"
            ],
            [
             0.2222222222222222,
             "#7201a8"
            ],
            [
             0.3333333333333333,
             "#9c179e"
            ],
            [
             0.4444444444444444,
             "#bd3786"
            ],
            [
             0.5555555555555556,
             "#d8576b"
            ],
            [
             0.6666666666666666,
             "#ed7953"
            ],
            [
             0.7777777777777778,
             "#fb9f3a"
            ],
            [
             0.8888888888888888,
             "#fdca26"
            ],
            [
             1,
             "#f0f921"
            ]
           ]
          },
          "colorway": [
           "#636efa",
           "#EF553B",
           "#00cc96",
           "#ab63fa",
           "#FFA15A",
           "#19d3f3",
           "#FF6692",
           "#B6E880",
           "#FF97FF",
           "#FECB52"
          ],
          "font": {
           "color": "#2a3f5f"
          },
          "geo": {
           "bgcolor": "white",
           "lakecolor": "white",
           "landcolor": "#E5ECF6",
           "showlakes": true,
           "showland": true,
           "subunitcolor": "white"
          },
          "hoverlabel": {
           "align": "left"
          },
          "hovermode": "closest",
          "mapbox": {
           "style": "light"
          },
          "paper_bgcolor": "white",
          "plot_bgcolor": "#E5ECF6",
          "polar": {
           "angularaxis": {
            "gridcolor": "white",
            "linecolor": "white",
            "ticks": ""
           },
           "bgcolor": "#E5ECF6",
           "radialaxis": {
            "gridcolor": "white",
            "linecolor": "white",
            "ticks": ""
           }
          },
          "scene": {
           "xaxis": {
            "backgroundcolor": "#E5ECF6",
            "gridcolor": "white",
            "gridwidth": 2,
            "linecolor": "white",
            "showbackground": true,
            "ticks": "",
            "zerolinecolor": "white"
           },
           "yaxis": {
            "backgroundcolor": "#E5ECF6",
            "gridcolor": "white",
            "gridwidth": 2,
            "linecolor": "white",
            "showbackground": true,
            "ticks": "",
            "zerolinecolor": "white"
           },
           "zaxis": {
            "backgroundcolor": "#E5ECF6",
            "gridcolor": "white",
            "gridwidth": 2,
            "linecolor": "white",
            "showbackground": true,
            "ticks": "",
            "zerolinecolor": "white"
           }
          },
          "shapedefaults": {
           "line": {
            "color": "#2a3f5f"
           }
          },
          "ternary": {
           "aaxis": {
            "gridcolor": "white",
            "linecolor": "white",
            "ticks": ""
           },
           "baxis": {
            "gridcolor": "white",
            "linecolor": "white",
            "ticks": ""
           },
           "bgcolor": "#E5ECF6",
           "caxis": {
            "gridcolor": "white",
            "linecolor": "white",
            "ticks": ""
           }
          },
          "title": {
           "x": 0.05
          },
          "xaxis": {
           "automargin": true,
           "gridcolor": "white",
           "linecolor": "white",
           "ticks": "",
           "title": {
            "standoff": 15
           },
           "zerolinecolor": "white",
           "zerolinewidth": 2
          },
          "yaxis": {
           "automargin": true,
           "gridcolor": "white",
           "linecolor": "white",
           "ticks": "",
           "title": {
            "standoff": 15
           },
           "zerolinecolor": "white",
           "zerolinewidth": 2
          }
         }
        },
        "title": {
         "font": {
          "color": "#cf1d2a",
          "family": "Arial",
          "size": 25
         },
         "text": "Goals per Clubs"
        }
       }
      }
     },
     "metadata": {},
     "output_type": "display_data"
    }
   ],
   "source": [
    "goals_club = df.groupby(\"Club\").size().reset_index(name='counts')\n",
    "\n",
    "fig = go.Figure(data=[go.Pie(labels=goals_club[\"Club\"], values=goals_club[\"counts\"], pull=[0, 0, 0.2])])\n",
    "fig.update_traces(textposition='inside', textinfo='percent', textfont_color=\"white\", \n",
    "                  marker=dict(colors=colors[2:], line=dict(color='white', width=2)))\n",
    "\n",
    "# Add title \n",
    "fig.update_layout(legend=dict(font=dict(\n",
    "            family=\"Courier\",\n",
    "            size=12,\n",
    "            color=\"white\",\n",
    "        \n",
    "        )), title_text='Goals per Clubs', \n",
    "                  title_font=dict(size=25, color=colors[2], family=\"Arial\"),\n",
    "                  paper_bgcolor=\"#3b3745\", title_font_color=colors[2])\n",
    "\n",
    "# Add image\n",
    "fig.add_layout_image(\n",
    "    dict(\n",
    "        source=\"https://i.imgur.com/3Uo2tzt.png\",\n",
    "        xref=\"paper\", yref=\"paper\",\n",
    "        y=0.7,\n",
    "        opacity= 0.3,\n",
    "        sizex=0.7, sizey=1,\n",
    "        xanchor=\"left\", yanchor=\"top\"\n",
    "    )\n",
    ")\n",
    "fig.show()"
   ]
  },
  {
   "cell_type": "code",
   "execution_count": 20,
   "metadata": {},
   "outputs": [
    {
     "data": {
      "text/html": [
       "<div>\n",
       "<style scoped>\n",
       "    .dataframe tbody tr th:only-of-type {\n",
       "        vertical-align: middle;\n",
       "    }\n",
       "\n",
       "    .dataframe tbody tr th {\n",
       "        vertical-align: top;\n",
       "    }\n",
       "\n",
       "    .dataframe thead th {\n",
       "        text-align: right;\n",
       "    }\n",
       "</style>\n",
       "<table border=\"1\" class=\"dataframe\">\n",
       "  <thead>\n",
       "    <tr style=\"text-align: right;\">\n",
       "      <th></th>\n",
       "      <th>Playing_Position</th>\n",
       "      <th>counts</th>\n",
       "    </tr>\n",
       "  </thead>\n",
       "  <tbody>\n",
       "    <tr>\n",
       "      <th>1</th>\n",
       "      <td>LW</td>\n",
       "      <td>361</td>\n",
       "    </tr>\n",
       "    <tr>\n",
       "      <th>0</th>\n",
       "      <td>CF</td>\n",
       "      <td>203</td>\n",
       "    </tr>\n",
       "    <tr>\n",
       "      <th>2</th>\n",
       "      <td>RW</td>\n",
       "      <td>79</td>\n",
       "    </tr>\n",
       "  </tbody>\n",
       "</table>\n",
       "</div>"
      ],
      "text/plain": [
       "  Playing_Position  counts\n",
       "1               LW     361\n",
       "0               CF     203\n",
       "2               RW      79"
      ]
     },
     "execution_count": 20,
     "metadata": {},
     "output_type": "execute_result"
    }
   ],
   "source": [
    "goals_position = df.groupby(\"Playing_Position\").size().reset_index(name='counts').sort_values(by=['counts'], ascending=False)\n",
    "goals_position "
   ]
  },
  {
   "cell_type": "code",
   "execution_count": 21,
   "metadata": {},
   "outputs": [
    {
     "data": {
      "application/vnd.plotly.v1+json": {
       "config": {
        "plotlyServerURL": "https://plot.ly"
       },
       "data": [
        {
         "alignmentgroup": "True",
         "legendgroup": "CF",
         "marker": {
          "color": "#e63f50",
          "line": {
           "color": "#000000",
           "width": 2
          },
          "pattern": {
           "shape": "."
          }
         },
         "name": "CF",
         "offsetgroup": "CF",
         "orientation": "v",
         "showlegend": true,
         "textfont": {
          "color": "white"
         },
         "textposition": "auto",
         "texttemplate": "%{y}",
         "type": "bar",
         "x": [
          "Juventus FC",
          "Manchester United",
          "Real Madrid"
         ],
         "xaxis": "x",
         "y": [
          62,
          30,
          111
         ],
         "yaxis": "y"
        },
        {
         "alignmentgroup": "True",
         "legendgroup": "LW",
         "marker": {
          "color": "#e63f50",
          "line": {
           "color": "#000000",
           "width": 2
          },
          "pattern": {
           "shape": "x"
          }
         },
         "name": "LW",
         "offsetgroup": "LW",
         "orientation": "v",
         "showlegend": true,
         "textfont": {
          "color": "white"
         },
         "textposition": "auto",
         "texttemplate": "%{y}",
         "type": "bar",
         "x": [
          "Juventus FC",
          "Manchester United",
          "Real Madrid",
          "Sporting CP"
         ],
         "xaxis": "x",
         "y": [
          39,
          5,
          315,
          2
         ],
         "yaxis": "y"
        },
        {
         "alignmentgroup": "True",
         "legendgroup": "RW",
         "marker": {
          "color": "#e63f50",
          "line": {
           "color": "#000000",
           "width": 2
          },
          "pattern": {
           "shape": "+"
          }
         },
         "name": "RW",
         "offsetgroup": "RW",
         "orientation": "v",
         "showlegend": true,
         "textfont": {
          "color": "white"
         },
         "textposition": "auto",
         "texttemplate": "%{y}",
         "type": "bar",
         "x": [
          "Manchester United",
          "Real Madrid"
         ],
         "xaxis": "x",
         "y": [
          70,
          9
         ],
         "yaxis": "y"
        }
       ],
       "layout": {
        "barmode": "relative",
        "font": {
         "color": "black"
        },
        "images": [
         {
          "opacity": 0.2,
          "sizex": 0.6,
          "sizey": 0.6,
          "source": "https://i.imgur.com/2Cv9yGn.png",
          "x": 0.3,
          "xanchor": "left",
          "xref": "paper",
          "y": 0.9,
          "yanchor": "top",
          "yref": "paper"
         }
        ],
        "legend": {
         "font": {
          "color": "white",
          "family": "Courier",
          "size": 12
         },
         "title": {
          "text": "Playing_Position"
         },
         "tracegroupgap": 0
        },
        "margin": {
         "b": 100,
         "l": 90,
         "r": 60,
         "t": 80
        },
        "paper_bgcolor": "#3b3745",
        "plot_bgcolor": "#3b3745",
        "template": {
         "data": {
          "bar": [
           {
            "error_x": {
             "color": "#2a3f5f"
            },
            "error_y": {
             "color": "#2a3f5f"
            },
            "marker": {
             "line": {
              "color": "#E5ECF6",
              "width": 0.5
             },
             "pattern": {
              "fillmode": "overlay",
              "size": 10,
              "solidity": 0.2
             }
            },
            "type": "bar"
           }
          ],
          "barpolar": [
           {
            "marker": {
             "line": {
              "color": "#E5ECF6",
              "width": 0.5
             },
             "pattern": {
              "fillmode": "overlay",
              "size": 10,
              "solidity": 0.2
             }
            },
            "type": "barpolar"
           }
          ],
          "carpet": [
           {
            "aaxis": {
             "endlinecolor": "#2a3f5f",
             "gridcolor": "white",
             "linecolor": "white",
             "minorgridcolor": "white",
             "startlinecolor": "#2a3f5f"
            },
            "baxis": {
             "endlinecolor": "#2a3f5f",
             "gridcolor": "white",
             "linecolor": "white",
             "minorgridcolor": "white",
             "startlinecolor": "#2a3f5f"
            },
            "type": "carpet"
           }
          ],
          "choropleth": [
           {
            "colorbar": {
             "outlinewidth": 0,
             "ticks": ""
            },
            "type": "choropleth"
           }
          ],
          "contour": [
           {
            "colorbar": {
             "outlinewidth": 0,
             "ticks": ""
            },
            "colorscale": [
             [
              0,
              "#0d0887"
             ],
             [
              0.1111111111111111,
              "#46039f"
             ],
             [
              0.2222222222222222,
              "#7201a8"
             ],
             [
              0.3333333333333333,
              "#9c179e"
             ],
             [
              0.4444444444444444,
              "#bd3786"
             ],
             [
              0.5555555555555556,
              "#d8576b"
             ],
             [
              0.6666666666666666,
              "#ed7953"
             ],
             [
              0.7777777777777778,
              "#fb9f3a"
             ],
             [
              0.8888888888888888,
              "#fdca26"
             ],
             [
              1,
              "#f0f921"
             ]
            ],
            "type": "contour"
           }
          ],
          "contourcarpet": [
           {
            "colorbar": {
             "outlinewidth": 0,
             "ticks": ""
            },
            "type": "contourcarpet"
           }
          ],
          "heatmap": [
           {
            "colorbar": {
             "outlinewidth": 0,
             "ticks": ""
            },
            "colorscale": [
             [
              0,
              "#0d0887"
             ],
             [
              0.1111111111111111,
              "#46039f"
             ],
             [
              0.2222222222222222,
              "#7201a8"
             ],
             [
              0.3333333333333333,
              "#9c179e"
             ],
             [
              0.4444444444444444,
              "#bd3786"
             ],
             [
              0.5555555555555556,
              "#d8576b"
             ],
             [
              0.6666666666666666,
              "#ed7953"
             ],
             [
              0.7777777777777778,
              "#fb9f3a"
             ],
             [
              0.8888888888888888,
              "#fdca26"
             ],
             [
              1,
              "#f0f921"
             ]
            ],
            "type": "heatmap"
           }
          ],
          "heatmapgl": [
           {
            "colorbar": {
             "outlinewidth": 0,
             "ticks": ""
            },
            "colorscale": [
             [
              0,
              "#0d0887"
             ],
             [
              0.1111111111111111,
              "#46039f"
             ],
             [
              0.2222222222222222,
              "#7201a8"
             ],
             [
              0.3333333333333333,
              "#9c179e"
             ],
             [
              0.4444444444444444,
              "#bd3786"
             ],
             [
              0.5555555555555556,
              "#d8576b"
             ],
             [
              0.6666666666666666,
              "#ed7953"
             ],
             [
              0.7777777777777778,
              "#fb9f3a"
             ],
             [
              0.8888888888888888,
              "#fdca26"
             ],
             [
              1,
              "#f0f921"
             ]
            ],
            "type": "heatmapgl"
           }
          ],
          "histogram": [
           {
            "marker": {
             "pattern": {
              "fillmode": "overlay",
              "size": 10,
              "solidity": 0.2
             }
            },
            "type": "histogram"
           }
          ],
          "histogram2d": [
           {
            "colorbar": {
             "outlinewidth": 0,
             "ticks": ""
            },
            "colorscale": [
             [
              0,
              "#0d0887"
             ],
             [
              0.1111111111111111,
              "#46039f"
             ],
             [
              0.2222222222222222,
              "#7201a8"
             ],
             [
              0.3333333333333333,
              "#9c179e"
             ],
             [
              0.4444444444444444,
              "#bd3786"
             ],
             [
              0.5555555555555556,
              "#d8576b"
             ],
             [
              0.6666666666666666,
              "#ed7953"
             ],
             [
              0.7777777777777778,
              "#fb9f3a"
             ],
             [
              0.8888888888888888,
              "#fdca26"
             ],
             [
              1,
              "#f0f921"
             ]
            ],
            "type": "histogram2d"
           }
          ],
          "histogram2dcontour": [
           {
            "colorbar": {
             "outlinewidth": 0,
             "ticks": ""
            },
            "colorscale": [
             [
              0,
              "#0d0887"
             ],
             [
              0.1111111111111111,
              "#46039f"
             ],
             [
              0.2222222222222222,
              "#7201a8"
             ],
             [
              0.3333333333333333,
              "#9c179e"
             ],
             [
              0.4444444444444444,
              "#bd3786"
             ],
             [
              0.5555555555555556,
              "#d8576b"
             ],
             [
              0.6666666666666666,
              "#ed7953"
             ],
             [
              0.7777777777777778,
              "#fb9f3a"
             ],
             [
              0.8888888888888888,
              "#fdca26"
             ],
             [
              1,
              "#f0f921"
             ]
            ],
            "type": "histogram2dcontour"
           }
          ],
          "mesh3d": [
           {
            "colorbar": {
             "outlinewidth": 0,
             "ticks": ""
            },
            "type": "mesh3d"
           }
          ],
          "parcoords": [
           {
            "line": {
             "colorbar": {
              "outlinewidth": 0,
              "ticks": ""
             }
            },
            "type": "parcoords"
           }
          ],
          "pie": [
           {
            "automargin": true,
            "type": "pie"
           }
          ],
          "scatter": [
           {
            "marker": {
             "colorbar": {
              "outlinewidth": 0,
              "ticks": ""
             }
            },
            "type": "scatter"
           }
          ],
          "scatter3d": [
           {
            "line": {
             "colorbar": {
              "outlinewidth": 0,
              "ticks": ""
             }
            },
            "marker": {
             "colorbar": {
              "outlinewidth": 0,
              "ticks": ""
             }
            },
            "type": "scatter3d"
           }
          ],
          "scattercarpet": [
           {
            "marker": {
             "colorbar": {
              "outlinewidth": 0,
              "ticks": ""
             }
            },
            "type": "scattercarpet"
           }
          ],
          "scattergeo": [
           {
            "marker": {
             "colorbar": {
              "outlinewidth": 0,
              "ticks": ""
             }
            },
            "type": "scattergeo"
           }
          ],
          "scattergl": [
           {
            "marker": {
             "colorbar": {
              "outlinewidth": 0,
              "ticks": ""
             }
            },
            "type": "scattergl"
           }
          ],
          "scattermapbox": [
           {
            "marker": {
             "colorbar": {
              "outlinewidth": 0,
              "ticks": ""
             }
            },
            "type": "scattermapbox"
           }
          ],
          "scatterpolar": [
           {
            "marker": {
             "colorbar": {
              "outlinewidth": 0,
              "ticks": ""
             }
            },
            "type": "scatterpolar"
           }
          ],
          "scatterpolargl": [
           {
            "marker": {
             "colorbar": {
              "outlinewidth": 0,
              "ticks": ""
             }
            },
            "type": "scatterpolargl"
           }
          ],
          "scatterternary": [
           {
            "marker": {
             "colorbar": {
              "outlinewidth": 0,
              "ticks": ""
             }
            },
            "type": "scatterternary"
           }
          ],
          "surface": [
           {
            "colorbar": {
             "outlinewidth": 0,
             "ticks": ""
            },
            "colorscale": [
             [
              0,
              "#0d0887"
             ],
             [
              0.1111111111111111,
              "#46039f"
             ],
             [
              0.2222222222222222,
              "#7201a8"
             ],
             [
              0.3333333333333333,
              "#9c179e"
             ],
             [
              0.4444444444444444,
              "#bd3786"
             ],
             [
              0.5555555555555556,
              "#d8576b"
             ],
             [
              0.6666666666666666,
              "#ed7953"
             ],
             [
              0.7777777777777778,
              "#fb9f3a"
             ],
             [
              0.8888888888888888,
              "#fdca26"
             ],
             [
              1,
              "#f0f921"
             ]
            ],
            "type": "surface"
           }
          ],
          "table": [
           {
            "cells": {
             "fill": {
              "color": "#EBF0F8"
             },
             "line": {
              "color": "white"
             }
            },
            "header": {
             "fill": {
              "color": "#C8D4E3"
             },
             "line": {
              "color": "white"
             }
            },
            "type": "table"
           }
          ]
         },
         "layout": {
          "annotationdefaults": {
           "arrowcolor": "#2a3f5f",
           "arrowhead": 0,
           "arrowwidth": 1
          },
          "autotypenumbers": "strict",
          "coloraxis": {
           "colorbar": {
            "outlinewidth": 0,
            "ticks": ""
           }
          },
          "colorscale": {
           "diverging": [
            [
             0,
             "#8e0152"
            ],
            [
             0.1,
             "#c51b7d"
            ],
            [
             0.2,
             "#de77ae"
            ],
            [
             0.3,
             "#f1b6da"
            ],
            [
             0.4,
             "#fde0ef"
            ],
            [
             0.5,
             "#f7f7f7"
            ],
            [
             0.6,
             "#e6f5d0"
            ],
            [
             0.7,
             "#b8e186"
            ],
            [
             0.8,
             "#7fbc41"
            ],
            [
             0.9,
             "#4d9221"
            ],
            [
             1,
             "#276419"
            ]
           ],
           "sequential": [
            [
             0,
             "#0d0887"
            ],
            [
             0.1111111111111111,
             "#46039f"
            ],
            [
             0.2222222222222222,
             "#7201a8"
            ],
            [
             0.3333333333333333,
             "#9c179e"
            ],
            [
             0.4444444444444444,
             "#bd3786"
            ],
            [
             0.5555555555555556,
             "#d8576b"
            ],
            [
             0.6666666666666666,
             "#ed7953"
            ],
            [
             0.7777777777777778,
             "#fb9f3a"
            ],
            [
             0.8888888888888888,
             "#fdca26"
            ],
            [
             1,
             "#f0f921"
            ]
           ],
           "sequentialminus": [
            [
             0,
             "#0d0887"
            ],
            [
             0.1111111111111111,
             "#46039f"
            ],
            [
             0.2222222222222222,
             "#7201a8"
            ],
            [
             0.3333333333333333,
             "#9c179e"
            ],
            [
             0.4444444444444444,
             "#bd3786"
            ],
            [
             0.5555555555555556,
             "#d8576b"
            ],
            [
             0.6666666666666666,
             "#ed7953"
            ],
            [
             0.7777777777777778,
             "#fb9f3a"
            ],
            [
             0.8888888888888888,
             "#fdca26"
            ],
            [
             1,
             "#f0f921"
            ]
           ]
          },
          "colorway": [
           "#636efa",
           "#EF553B",
           "#00cc96",
           "#ab63fa",
           "#FFA15A",
           "#19d3f3",
           "#FF6692",
           "#B6E880",
           "#FF97FF",
           "#FECB52"
          ],
          "font": {
           "color": "#2a3f5f"
          },
          "geo": {
           "bgcolor": "white",
           "lakecolor": "white",
           "landcolor": "#E5ECF6",
           "showlakes": true,
           "showland": true,
           "subunitcolor": "white"
          },
          "hoverlabel": {
           "align": "left"
          },
          "hovermode": "closest",
          "mapbox": {
           "style": "light"
          },
          "paper_bgcolor": "white",
          "plot_bgcolor": "#E5ECF6",
          "polar": {
           "angularaxis": {
            "gridcolor": "white",
            "linecolor": "white",
            "ticks": ""
           },
           "bgcolor": "#E5ECF6",
           "radialaxis": {
            "gridcolor": "white",
            "linecolor": "white",
            "ticks": ""
           }
          },
          "scene": {
           "xaxis": {
            "backgroundcolor": "#E5ECF6",
            "gridcolor": "white",
            "gridwidth": 2,
            "linecolor": "white",
            "showbackground": true,
            "ticks": "",
            "zerolinecolor": "white"
           },
           "yaxis": {
            "backgroundcolor": "#E5ECF6",
            "gridcolor": "white",
            "gridwidth": 2,
            "linecolor": "white",
            "showbackground": true,
            "ticks": "",
            "zerolinecolor": "white"
           },
           "zaxis": {
            "backgroundcolor": "#E5ECF6",
            "gridcolor": "white",
            "gridwidth": 2,
            "linecolor": "white",
            "showbackground": true,
            "ticks": "",
            "zerolinecolor": "white"
           }
          },
          "shapedefaults": {
           "line": {
            "color": "#2a3f5f"
           }
          },
          "ternary": {
           "aaxis": {
            "gridcolor": "white",
            "linecolor": "white",
            "ticks": ""
           },
           "baxis": {
            "gridcolor": "white",
            "linecolor": "white",
            "ticks": ""
           },
           "bgcolor": "#E5ECF6",
           "caxis": {
            "gridcolor": "white",
            "linecolor": "white",
            "ticks": ""
           }
          },
          "title": {
           "x": 0.05
          },
          "xaxis": {
           "automargin": true,
           "gridcolor": "white",
           "linecolor": "white",
           "ticks": "",
           "title": {
            "standoff": 15
           },
           "zerolinecolor": "white",
           "zerolinewidth": 2
          },
          "yaxis": {
           "automargin": true,
           "gridcolor": "white",
           "linecolor": "white",
           "ticks": "",
           "title": {
            "standoff": 15
           },
           "zerolinecolor": "white",
           "zerolinewidth": 2
          }
         }
        },
        "title": {
         "font": {
          "color": "white",
          "family": "Arial",
          "size": 25
         },
         "text": "Position Played per Club"
        },
        "xaxis": {
         "anchor": "y",
         "categoryorder": "total descending",
         "color": "white",
         "domain": [
          0,
          1
         ],
         "tickangle": 0,
         "title": {
          "text": "Club"
         }
        },
        "yaxis": {
         "anchor": "x",
         "domain": [
          0,
          1
         ],
         "showgrid": false,
         "title": {
          "text": "count"
         },
         "visible": false
        }
       }
      }
     },
     "metadata": {},
     "output_type": "display_data"
    }
   ],
   "source": [
    "goals_position_club = (\n",
    "    df.groupby(['Club', 'Playing_Position'], as_index=False)\n",
    "      .agg(count=('Playing_Position', 'count'))\n",
    ")\n",
    "\n",
    "hatching_plot(goals_position_club, \"Club\", \"count\", \"Playing_Position\", \"Playing_Position\", [\".\", \"x\", \"+\"], \"Position Played per Club\")"
   ]
  },
  {
   "cell_type": "code",
   "execution_count": 22,
   "metadata": {},
   "outputs": [
    {
     "data": {
      "application/vnd.plotly.v1+json": {
       "config": {
        "plotlyServerURL": "https://plot.ly"
       },
       "data": [
        {
         "labels": [
          "Counter attack goal",
          "Deflected shot on goal",
          "Direct free kick",
          "Header",
          "Left-footed shot",
          "Long distance kick",
          "Penalty",
          "Penalty rebound",
          "Right-footed shot",
          "Solo run",
          "Tap-in"
         ],
         "marker": {
          "colors": [
           "#cf1d2a",
           "#e63f50",
           "#d5792c",
           "#FCDDB0"
          ],
          "line": {
           "color": "white",
           "width": 2
          }
         },
         "textfont": {
          "color": "white"
         },
         "textinfo": "percent",
         "textposition": "inside",
         "type": "pie",
         "values": [
          5,
          2,
          48,
          112,
          111,
          9,
          129,
          3,
          251,
          2,
          14
         ]
        }
       ],
       "layout": {
        "images": [
         {
          "opacity": 0.3,
          "sizex": 0.7,
          "sizey": 1,
          "source": "https://i.imgur.com/3Uo2tzt.png",
          "x": -0.03,
          "xanchor": "left",
          "xref": "paper",
          "y": 0.7,
          "yanchor": "top",
          "yref": "paper"
         }
        ],
        "legend": {
         "font": {
          "color": "white",
          "family": "Courier",
          "size": 12
         }
        },
        "paper_bgcolor": "#3b3745",
        "template": {
         "data": {
          "bar": [
           {
            "error_x": {
             "color": "#2a3f5f"
            },
            "error_y": {
             "color": "#2a3f5f"
            },
            "marker": {
             "line": {
              "color": "#E5ECF6",
              "width": 0.5
             },
             "pattern": {
              "fillmode": "overlay",
              "size": 10,
              "solidity": 0.2
             }
            },
            "type": "bar"
           }
          ],
          "barpolar": [
           {
            "marker": {
             "line": {
              "color": "#E5ECF6",
              "width": 0.5
             },
             "pattern": {
              "fillmode": "overlay",
              "size": 10,
              "solidity": 0.2
             }
            },
            "type": "barpolar"
           }
          ],
          "carpet": [
           {
            "aaxis": {
             "endlinecolor": "#2a3f5f",
             "gridcolor": "white",
             "linecolor": "white",
             "minorgridcolor": "white",
             "startlinecolor": "#2a3f5f"
            },
            "baxis": {
             "endlinecolor": "#2a3f5f",
             "gridcolor": "white",
             "linecolor": "white",
             "minorgridcolor": "white",
             "startlinecolor": "#2a3f5f"
            },
            "type": "carpet"
           }
          ],
          "choropleth": [
           {
            "colorbar": {
             "outlinewidth": 0,
             "ticks": ""
            },
            "type": "choropleth"
           }
          ],
          "contour": [
           {
            "colorbar": {
             "outlinewidth": 0,
             "ticks": ""
            },
            "colorscale": [
             [
              0,
              "#0d0887"
             ],
             [
              0.1111111111111111,
              "#46039f"
             ],
             [
              0.2222222222222222,
              "#7201a8"
             ],
             [
              0.3333333333333333,
              "#9c179e"
             ],
             [
              0.4444444444444444,
              "#bd3786"
             ],
             [
              0.5555555555555556,
              "#d8576b"
             ],
             [
              0.6666666666666666,
              "#ed7953"
             ],
             [
              0.7777777777777778,
              "#fb9f3a"
             ],
             [
              0.8888888888888888,
              "#fdca26"
             ],
             [
              1,
              "#f0f921"
             ]
            ],
            "type": "contour"
           }
          ],
          "contourcarpet": [
           {
            "colorbar": {
             "outlinewidth": 0,
             "ticks": ""
            },
            "type": "contourcarpet"
           }
          ],
          "heatmap": [
           {
            "colorbar": {
             "outlinewidth": 0,
             "ticks": ""
            },
            "colorscale": [
             [
              0,
              "#0d0887"
             ],
             [
              0.1111111111111111,
              "#46039f"
             ],
             [
              0.2222222222222222,
              "#7201a8"
             ],
             [
              0.3333333333333333,
              "#9c179e"
             ],
             [
              0.4444444444444444,
              "#bd3786"
             ],
             [
              0.5555555555555556,
              "#d8576b"
             ],
             [
              0.6666666666666666,
              "#ed7953"
             ],
             [
              0.7777777777777778,
              "#fb9f3a"
             ],
             [
              0.8888888888888888,
              "#fdca26"
             ],
             [
              1,
              "#f0f921"
             ]
            ],
            "type": "heatmap"
           }
          ],
          "heatmapgl": [
           {
            "colorbar": {
             "outlinewidth": 0,
             "ticks": ""
            },
            "colorscale": [
             [
              0,
              "#0d0887"
             ],
             [
              0.1111111111111111,
              "#46039f"
             ],
             [
              0.2222222222222222,
              "#7201a8"
             ],
             [
              0.3333333333333333,
              "#9c179e"
             ],
             [
              0.4444444444444444,
              "#bd3786"
             ],
             [
              0.5555555555555556,
              "#d8576b"
             ],
             [
              0.6666666666666666,
              "#ed7953"
             ],
             [
              0.7777777777777778,
              "#fb9f3a"
             ],
             [
              0.8888888888888888,
              "#fdca26"
             ],
             [
              1,
              "#f0f921"
             ]
            ],
            "type": "heatmapgl"
           }
          ],
          "histogram": [
           {
            "marker": {
             "pattern": {
              "fillmode": "overlay",
              "size": 10,
              "solidity": 0.2
             }
            },
            "type": "histogram"
           }
          ],
          "histogram2d": [
           {
            "colorbar": {
             "outlinewidth": 0,
             "ticks": ""
            },
            "colorscale": [
             [
              0,
              "#0d0887"
             ],
             [
              0.1111111111111111,
              "#46039f"
             ],
             [
              0.2222222222222222,
              "#7201a8"
             ],
             [
              0.3333333333333333,
              "#9c179e"
             ],
             [
              0.4444444444444444,
              "#bd3786"
             ],
             [
              0.5555555555555556,
              "#d8576b"
             ],
             [
              0.6666666666666666,
              "#ed7953"
             ],
             [
              0.7777777777777778,
              "#fb9f3a"
             ],
             [
              0.8888888888888888,
              "#fdca26"
             ],
             [
              1,
              "#f0f921"
             ]
            ],
            "type": "histogram2d"
           }
          ],
          "histogram2dcontour": [
           {
            "colorbar": {
             "outlinewidth": 0,
             "ticks": ""
            },
            "colorscale": [
             [
              0,
              "#0d0887"
             ],
             [
              0.1111111111111111,
              "#46039f"
             ],
             [
              0.2222222222222222,
              "#7201a8"
             ],
             [
              0.3333333333333333,
              "#9c179e"
             ],
             [
              0.4444444444444444,
              "#bd3786"
             ],
             [
              0.5555555555555556,
              "#d8576b"
             ],
             [
              0.6666666666666666,
              "#ed7953"
             ],
             [
              0.7777777777777778,
              "#fb9f3a"
             ],
             [
              0.8888888888888888,
              "#fdca26"
             ],
             [
              1,
              "#f0f921"
             ]
            ],
            "type": "histogram2dcontour"
           }
          ],
          "mesh3d": [
           {
            "colorbar": {
             "outlinewidth": 0,
             "ticks": ""
            },
            "type": "mesh3d"
           }
          ],
          "parcoords": [
           {
            "line": {
             "colorbar": {
              "outlinewidth": 0,
              "ticks": ""
             }
            },
            "type": "parcoords"
           }
          ],
          "pie": [
           {
            "automargin": true,
            "type": "pie"
           }
          ],
          "scatter": [
           {
            "marker": {
             "colorbar": {
              "outlinewidth": 0,
              "ticks": ""
             }
            },
            "type": "scatter"
           }
          ],
          "scatter3d": [
           {
            "line": {
             "colorbar": {
              "outlinewidth": 0,
              "ticks": ""
             }
            },
            "marker": {
             "colorbar": {
              "outlinewidth": 0,
              "ticks": ""
             }
            },
            "type": "scatter3d"
           }
          ],
          "scattercarpet": [
           {
            "marker": {
             "colorbar": {
              "outlinewidth": 0,
              "ticks": ""
             }
            },
            "type": "scattercarpet"
           }
          ],
          "scattergeo": [
           {
            "marker": {
             "colorbar": {
              "outlinewidth": 0,
              "ticks": ""
             }
            },
            "type": "scattergeo"
           }
          ],
          "scattergl": [
           {
            "marker": {
             "colorbar": {
              "outlinewidth": 0,
              "ticks": ""
             }
            },
            "type": "scattergl"
           }
          ],
          "scattermapbox": [
           {
            "marker": {
             "colorbar": {
              "outlinewidth": 0,
              "ticks": ""
             }
            },
            "type": "scattermapbox"
           }
          ],
          "scatterpolar": [
           {
            "marker": {
             "colorbar": {
              "outlinewidth": 0,
              "ticks": ""
             }
            },
            "type": "scatterpolar"
           }
          ],
          "scatterpolargl": [
           {
            "marker": {
             "colorbar": {
              "outlinewidth": 0,
              "ticks": ""
             }
            },
            "type": "scatterpolargl"
           }
          ],
          "scatterternary": [
           {
            "marker": {
             "colorbar": {
              "outlinewidth": 0,
              "ticks": ""
             }
            },
            "type": "scatterternary"
           }
          ],
          "surface": [
           {
            "colorbar": {
             "outlinewidth": 0,
             "ticks": ""
            },
            "colorscale": [
             [
              0,
              "#0d0887"
             ],
             [
              0.1111111111111111,
              "#46039f"
             ],
             [
              0.2222222222222222,
              "#7201a8"
             ],
             [
              0.3333333333333333,
              "#9c179e"
             ],
             [
              0.4444444444444444,
              "#bd3786"
             ],
             [
              0.5555555555555556,
              "#d8576b"
             ],
             [
              0.6666666666666666,
              "#ed7953"
             ],
             [
              0.7777777777777778,
              "#fb9f3a"
             ],
             [
              0.8888888888888888,
              "#fdca26"
             ],
             [
              1,
              "#f0f921"
             ]
            ],
            "type": "surface"
           }
          ],
          "table": [
           {
            "cells": {
             "fill": {
              "color": "#EBF0F8"
             },
             "line": {
              "color": "white"
             }
            },
            "header": {
             "fill": {
              "color": "#C8D4E3"
             },
             "line": {
              "color": "white"
             }
            },
            "type": "table"
           }
          ]
         },
         "layout": {
          "annotationdefaults": {
           "arrowcolor": "#2a3f5f",
           "arrowhead": 0,
           "arrowwidth": 1
          },
          "autotypenumbers": "strict",
          "coloraxis": {
           "colorbar": {
            "outlinewidth": 0,
            "ticks": ""
           }
          },
          "colorscale": {
           "diverging": [
            [
             0,
             "#8e0152"
            ],
            [
             0.1,
             "#c51b7d"
            ],
            [
             0.2,
             "#de77ae"
            ],
            [
             0.3,
             "#f1b6da"
            ],
            [
             0.4,
             "#fde0ef"
            ],
            [
             0.5,
             "#f7f7f7"
            ],
            [
             0.6,
             "#e6f5d0"
            ],
            [
             0.7,
             "#b8e186"
            ],
            [
             0.8,
             "#7fbc41"
            ],
            [
             0.9,
             "#4d9221"
            ],
            [
             1,
             "#276419"
            ]
           ],
           "sequential": [
            [
             0,
             "#0d0887"
            ],
            [
             0.1111111111111111,
             "#46039f"
            ],
            [
             0.2222222222222222,
             "#7201a8"
            ],
            [
             0.3333333333333333,
             "#9c179e"
            ],
            [
             0.4444444444444444,
             "#bd3786"
            ],
            [
             0.5555555555555556,
             "#d8576b"
            ],
            [
             0.6666666666666666,
             "#ed7953"
            ],
            [
             0.7777777777777778,
             "#fb9f3a"
            ],
            [
             0.8888888888888888,
             "#fdca26"
            ],
            [
             1,
             "#f0f921"
            ]
           ],
           "sequentialminus": [
            [
             0,
             "#0d0887"
            ],
            [
             0.1111111111111111,
             "#46039f"
            ],
            [
             0.2222222222222222,
             "#7201a8"
            ],
            [
             0.3333333333333333,
             "#9c179e"
            ],
            [
             0.4444444444444444,
             "#bd3786"
            ],
            [
             0.5555555555555556,
             "#d8576b"
            ],
            [
             0.6666666666666666,
             "#ed7953"
            ],
            [
             0.7777777777777778,
             "#fb9f3a"
            ],
            [
             0.8888888888888888,
             "#fdca26"
            ],
            [
             1,
             "#f0f921"
            ]
           ]
          },
          "colorway": [
           "#636efa",
           "#EF553B",
           "#00cc96",
           "#ab63fa",
           "#FFA15A",
           "#19d3f3",
           "#FF6692",
           "#B6E880",
           "#FF97FF",
           "#FECB52"
          ],
          "font": {
           "color": "#2a3f5f"
          },
          "geo": {
           "bgcolor": "white",
           "lakecolor": "white",
           "landcolor": "#E5ECF6",
           "showlakes": true,
           "showland": true,
           "subunitcolor": "white"
          },
          "hoverlabel": {
           "align": "left"
          },
          "hovermode": "closest",
          "mapbox": {
           "style": "light"
          },
          "paper_bgcolor": "white",
          "plot_bgcolor": "#E5ECF6",
          "polar": {
           "angularaxis": {
            "gridcolor": "white",
            "linecolor": "white",
            "ticks": ""
           },
           "bgcolor": "#E5ECF6",
           "radialaxis": {
            "gridcolor": "white",
            "linecolor": "white",
            "ticks": ""
           }
          },
          "scene": {
           "xaxis": {
            "backgroundcolor": "#E5ECF6",
            "gridcolor": "white",
            "gridwidth": 2,
            "linecolor": "white",
            "showbackground": true,
            "ticks": "",
            "zerolinecolor": "white"
           },
           "yaxis": {
            "backgroundcolor": "#E5ECF6",
            "gridcolor": "white",
            "gridwidth": 2,
            "linecolor": "white",
            "showbackground": true,
            "ticks": "",
            "zerolinecolor": "white"
           },
           "zaxis": {
            "backgroundcolor": "#E5ECF6",
            "gridcolor": "white",
            "gridwidth": 2,
            "linecolor": "white",
            "showbackground": true,
            "ticks": "",
            "zerolinecolor": "white"
           }
          },
          "shapedefaults": {
           "line": {
            "color": "#2a3f5f"
           }
          },
          "ternary": {
           "aaxis": {
            "gridcolor": "white",
            "linecolor": "white",
            "ticks": ""
           },
           "baxis": {
            "gridcolor": "white",
            "linecolor": "white",
            "ticks": ""
           },
           "bgcolor": "#E5ECF6",
           "caxis": {
            "gridcolor": "white",
            "linecolor": "white",
            "ticks": ""
           }
          },
          "title": {
           "x": 0.05
          },
          "xaxis": {
           "automargin": true,
           "gridcolor": "white",
           "linecolor": "white",
           "ticks": "",
           "title": {
            "standoff": 15
           },
           "zerolinecolor": "white",
           "zerolinewidth": 2
          },
          "yaxis": {
           "automargin": true,
           "gridcolor": "white",
           "linecolor": "white",
           "ticks": "",
           "title": {
            "standoff": 15
           },
           "zerolinecolor": "white",
           "zerolinewidth": 2
          }
         }
        },
        "title": {
         "font": {
          "color": "#cf1d2a",
          "family": "Arial",
          "size": 25
         },
         "text": "Goals per Type"
        }
       }
      }
     },
     "metadata": {},
     "output_type": "display_data"
    }
   ],
   "source": [
    "goals_club = df.groupby(\"Type\").size().reset_index(name='counts')\n",
    "\n",
    "fig = go.Figure(data=[go.Pie(labels=goals_club[\"Type\"], values=goals_club[\"counts\"])])\n",
    "fig.update_traces(textposition='inside', textinfo='percent', textfont_color=\"white\", \n",
    "                  marker=dict(colors=colors[2:], line=dict(color='white', width=2)))\n",
    "\n",
    "# Add title \n",
    "fig.update_layout(legend=dict(font=dict(\n",
    "            family=\"Courier\",\n",
    "            size=12,\n",
    "            color=\"white\",\n",
    "        \n",
    "        )), title_text='Goals per Type', \n",
    "                  title_font=dict(size=25, color=colors[2], family=\"Arial\"),\n",
    "                  paper_bgcolor=\"#3b3745\", title_font_color=colors[2])\n",
    "\n",
    "# Add image\n",
    "fig.add_layout_image(\n",
    "    dict(\n",
    "        source=\"https://i.imgur.com/3Uo2tzt.png\",\n",
    "        xref=\"paper\", yref=\"paper\",\n",
    "        y=0.7, x=-0.03,\n",
    "        opacity= 0.3, \n",
    "        sizex=0.7, sizey=1,\n",
    "        xanchor=\"left\", yanchor=\"top\"\n",
    "    )\n",
    ")\n",
    "fig.show()"
   ]
  },
  {
   "cell_type": "code",
   "execution_count": 23,
   "metadata": {},
   "outputs": [
    {
     "data": {
      "application/vnd.plotly.v1+json": {
       "config": {
        "plotlyServerURL": "https://plot.ly"
       },
       "data": [
        {
         "hovertemplate": "Season=%{x}<br>counts=%{y}<extra></extra>",
         "legendgroup": "",
         "line": {
          "color": "#e63f50",
          "dash": "solid",
          "width": 5
         },
         "marker": {
          "color": "#e63f50",
          "line": {
           "color": "white",
           "width": 2
          },
          "symbol": "circle"
         },
         "mode": "markers+lines",
         "name": "",
         "orientation": "v",
         "showlegend": false,
         "type": "scatter",
         "x": [
          "02/03",
          "03/04",
          "04/05",
          "05/06",
          "06/07",
          "07/08",
          "08/09",
          "09/10",
          "10/11",
          "11/12",
          "12/13",
          "13/14",
          "14/15",
          "15/16",
          "16/17",
          "17/18",
          "18/19",
          "19/20",
          "20/21",
          "21/22",
          "22/23"
         ],
         "xaxis": "x",
         "y": [
          5,
          6,
          9,
          12,
          23,
          42,
          26,
          33,
          53,
          60,
          55,
          51,
          61,
          51,
          42,
          44,
          28,
          37,
          36,
          24,
          3
         ],
         "yaxis": "y"
        }
       ],
       "layout": {
        "annotations": [
         {
          "arrowcolor": "white",
          "arrowhead": 1,
          "font": {
           "color": "#d5792c",
           "family": "sans serif",
           "size": 18
          },
          "showarrow": true,
          "text": "Highest Goals Count",
          "x": "14/15",
          "y": 63
         }
        ],
        "font": {
         "color": "black"
        },
        "legend": {
         "font": {
          "color": "white",
          "family": "Courier",
          "size": 12
         },
         "tracegroupgap": 0
        },
        "margin": {
         "b": 100,
         "l": 90,
         "r": 60,
         "t": 80
        },
        "paper_bgcolor": "#3b3745",
        "plot_bgcolor": "#3b3745",
        "template": {
         "data": {
          "bar": [
           {
            "error_x": {
             "color": "#2a3f5f"
            },
            "error_y": {
             "color": "#2a3f5f"
            },
            "marker": {
             "line": {
              "color": "#E5ECF6",
              "width": 0.5
             },
             "pattern": {
              "fillmode": "overlay",
              "size": 10,
              "solidity": 0.2
             }
            },
            "type": "bar"
           }
          ],
          "barpolar": [
           {
            "marker": {
             "line": {
              "color": "#E5ECF6",
              "width": 0.5
             },
             "pattern": {
              "fillmode": "overlay",
              "size": 10,
              "solidity": 0.2
             }
            },
            "type": "barpolar"
           }
          ],
          "carpet": [
           {
            "aaxis": {
             "endlinecolor": "#2a3f5f",
             "gridcolor": "white",
             "linecolor": "white",
             "minorgridcolor": "white",
             "startlinecolor": "#2a3f5f"
            },
            "baxis": {
             "endlinecolor": "#2a3f5f",
             "gridcolor": "white",
             "linecolor": "white",
             "minorgridcolor": "white",
             "startlinecolor": "#2a3f5f"
            },
            "type": "carpet"
           }
          ],
          "choropleth": [
           {
            "colorbar": {
             "outlinewidth": 0,
             "ticks": ""
            },
            "type": "choropleth"
           }
          ],
          "contour": [
           {
            "colorbar": {
             "outlinewidth": 0,
             "ticks": ""
            },
            "colorscale": [
             [
              0,
              "#0d0887"
             ],
             [
              0.1111111111111111,
              "#46039f"
             ],
             [
              0.2222222222222222,
              "#7201a8"
             ],
             [
              0.3333333333333333,
              "#9c179e"
             ],
             [
              0.4444444444444444,
              "#bd3786"
             ],
             [
              0.5555555555555556,
              "#d8576b"
             ],
             [
              0.6666666666666666,
              "#ed7953"
             ],
             [
              0.7777777777777778,
              "#fb9f3a"
             ],
             [
              0.8888888888888888,
              "#fdca26"
             ],
             [
              1,
              "#f0f921"
             ]
            ],
            "type": "contour"
           }
          ],
          "contourcarpet": [
           {
            "colorbar": {
             "outlinewidth": 0,
             "ticks": ""
            },
            "type": "contourcarpet"
           }
          ],
          "heatmap": [
           {
            "colorbar": {
             "outlinewidth": 0,
             "ticks": ""
            },
            "colorscale": [
             [
              0,
              "#0d0887"
             ],
             [
              0.1111111111111111,
              "#46039f"
             ],
             [
              0.2222222222222222,
              "#7201a8"
             ],
             [
              0.3333333333333333,
              "#9c179e"
             ],
             [
              0.4444444444444444,
              "#bd3786"
             ],
             [
              0.5555555555555556,
              "#d8576b"
             ],
             [
              0.6666666666666666,
              "#ed7953"
             ],
             [
              0.7777777777777778,
              "#fb9f3a"
             ],
             [
              0.8888888888888888,
              "#fdca26"
             ],
             [
              1,
              "#f0f921"
             ]
            ],
            "type": "heatmap"
           }
          ],
          "heatmapgl": [
           {
            "colorbar": {
             "outlinewidth": 0,
             "ticks": ""
            },
            "colorscale": [
             [
              0,
              "#0d0887"
             ],
             [
              0.1111111111111111,
              "#46039f"
             ],
             [
              0.2222222222222222,
              "#7201a8"
             ],
             [
              0.3333333333333333,
              "#9c179e"
             ],
             [
              0.4444444444444444,
              "#bd3786"
             ],
             [
              0.5555555555555556,
              "#d8576b"
             ],
             [
              0.6666666666666666,
              "#ed7953"
             ],
             [
              0.7777777777777778,
              "#fb9f3a"
             ],
             [
              0.8888888888888888,
              "#fdca26"
             ],
             [
              1,
              "#f0f921"
             ]
            ],
            "type": "heatmapgl"
           }
          ],
          "histogram": [
           {
            "marker": {
             "pattern": {
              "fillmode": "overlay",
              "size": 10,
              "solidity": 0.2
             }
            },
            "type": "histogram"
           }
          ],
          "histogram2d": [
           {
            "colorbar": {
             "outlinewidth": 0,
             "ticks": ""
            },
            "colorscale": [
             [
              0,
              "#0d0887"
             ],
             [
              0.1111111111111111,
              "#46039f"
             ],
             [
              0.2222222222222222,
              "#7201a8"
             ],
             [
              0.3333333333333333,
              "#9c179e"
             ],
             [
              0.4444444444444444,
              "#bd3786"
             ],
             [
              0.5555555555555556,
              "#d8576b"
             ],
             [
              0.6666666666666666,
              "#ed7953"
             ],
             [
              0.7777777777777778,
              "#fb9f3a"
             ],
             [
              0.8888888888888888,
              "#fdca26"
             ],
             [
              1,
              "#f0f921"
             ]
            ],
            "type": "histogram2d"
           }
          ],
          "histogram2dcontour": [
           {
            "colorbar": {
             "outlinewidth": 0,
             "ticks": ""
            },
            "colorscale": [
             [
              0,
              "#0d0887"
             ],
             [
              0.1111111111111111,
              "#46039f"
             ],
             [
              0.2222222222222222,
              "#7201a8"
             ],
             [
              0.3333333333333333,
              "#9c179e"
             ],
             [
              0.4444444444444444,
              "#bd3786"
             ],
             [
              0.5555555555555556,
              "#d8576b"
             ],
             [
              0.6666666666666666,
              "#ed7953"
             ],
             [
              0.7777777777777778,
              "#fb9f3a"
             ],
             [
              0.8888888888888888,
              "#fdca26"
             ],
             [
              1,
              "#f0f921"
             ]
            ],
            "type": "histogram2dcontour"
           }
          ],
          "mesh3d": [
           {
            "colorbar": {
             "outlinewidth": 0,
             "ticks": ""
            },
            "type": "mesh3d"
           }
          ],
          "parcoords": [
           {
            "line": {
             "colorbar": {
              "outlinewidth": 0,
              "ticks": ""
             }
            },
            "type": "parcoords"
           }
          ],
          "pie": [
           {
            "automargin": true,
            "type": "pie"
           }
          ],
          "scatter": [
           {
            "marker": {
             "colorbar": {
              "outlinewidth": 0,
              "ticks": ""
             }
            },
            "type": "scatter"
           }
          ],
          "scatter3d": [
           {
            "line": {
             "colorbar": {
              "outlinewidth": 0,
              "ticks": ""
             }
            },
            "marker": {
             "colorbar": {
              "outlinewidth": 0,
              "ticks": ""
             }
            },
            "type": "scatter3d"
           }
          ],
          "scattercarpet": [
           {
            "marker": {
             "colorbar": {
              "outlinewidth": 0,
              "ticks": ""
             }
            },
            "type": "scattercarpet"
           }
          ],
          "scattergeo": [
           {
            "marker": {
             "colorbar": {
              "outlinewidth": 0,
              "ticks": ""
             }
            },
            "type": "scattergeo"
           }
          ],
          "scattergl": [
           {
            "marker": {
             "colorbar": {
              "outlinewidth": 0,
              "ticks": ""
             }
            },
            "type": "scattergl"
           }
          ],
          "scattermapbox": [
           {
            "marker": {
             "colorbar": {
              "outlinewidth": 0,
              "ticks": ""
             }
            },
            "type": "scattermapbox"
           }
          ],
          "scatterpolar": [
           {
            "marker": {
             "colorbar": {
              "outlinewidth": 0,
              "ticks": ""
             }
            },
            "type": "scatterpolar"
           }
          ],
          "scatterpolargl": [
           {
            "marker": {
             "colorbar": {
              "outlinewidth": 0,
              "ticks": ""
             }
            },
            "type": "scatterpolargl"
           }
          ],
          "scatterternary": [
           {
            "marker": {
             "colorbar": {
              "outlinewidth": 0,
              "ticks": ""
             }
            },
            "type": "scatterternary"
           }
          ],
          "surface": [
           {
            "colorbar": {
             "outlinewidth": 0,
             "ticks": ""
            },
            "colorscale": [
             [
              0,
              "#0d0887"
             ],
             [
              0.1111111111111111,
              "#46039f"
             ],
             [
              0.2222222222222222,
              "#7201a8"
             ],
             [
              0.3333333333333333,
              "#9c179e"
             ],
             [
              0.4444444444444444,
              "#bd3786"
             ],
             [
              0.5555555555555556,
              "#d8576b"
             ],
             [
              0.6666666666666666,
              "#ed7953"
             ],
             [
              0.7777777777777778,
              "#fb9f3a"
             ],
             [
              0.8888888888888888,
              "#fdca26"
             ],
             [
              1,
              "#f0f921"
             ]
            ],
            "type": "surface"
           }
          ],
          "table": [
           {
            "cells": {
             "fill": {
              "color": "#EBF0F8"
             },
             "line": {
              "color": "white"
             }
            },
            "header": {
             "fill": {
              "color": "#C8D4E3"
             },
             "line": {
              "color": "white"
             }
            },
            "type": "table"
           }
          ]
         },
         "layout": {
          "annotationdefaults": {
           "arrowcolor": "#2a3f5f",
           "arrowhead": 0,
           "arrowwidth": 1
          },
          "autotypenumbers": "strict",
          "coloraxis": {
           "colorbar": {
            "outlinewidth": 0,
            "ticks": ""
           }
          },
          "colorscale": {
           "diverging": [
            [
             0,
             "#8e0152"
            ],
            [
             0.1,
             "#c51b7d"
            ],
            [
             0.2,
             "#de77ae"
            ],
            [
             0.3,
             "#f1b6da"
            ],
            [
             0.4,
             "#fde0ef"
            ],
            [
             0.5,
             "#f7f7f7"
            ],
            [
             0.6,
             "#e6f5d0"
            ],
            [
             0.7,
             "#b8e186"
            ],
            [
             0.8,
             "#7fbc41"
            ],
            [
             0.9,
             "#4d9221"
            ],
            [
             1,
             "#276419"
            ]
           ],
           "sequential": [
            [
             0,
             "#0d0887"
            ],
            [
             0.1111111111111111,
             "#46039f"
            ],
            [
             0.2222222222222222,
             "#7201a8"
            ],
            [
             0.3333333333333333,
             "#9c179e"
            ],
            [
             0.4444444444444444,
             "#bd3786"
            ],
            [
             0.5555555555555556,
             "#d8576b"
            ],
            [
             0.6666666666666666,
             "#ed7953"
            ],
            [
             0.7777777777777778,
             "#fb9f3a"
            ],
            [
             0.8888888888888888,
             "#fdca26"
            ],
            [
             1,
             "#f0f921"
            ]
           ],
           "sequentialminus": [
            [
             0,
             "#0d0887"
            ],
            [
             0.1111111111111111,
             "#46039f"
            ],
            [
             0.2222222222222222,
             "#7201a8"
            ],
            [
             0.3333333333333333,
             "#9c179e"
            ],
            [
             0.4444444444444444,
             "#bd3786"
            ],
            [
             0.5555555555555556,
             "#d8576b"
            ],
            [
             0.6666666666666666,
             "#ed7953"
            ],
            [
             0.7777777777777778,
             "#fb9f3a"
            ],
            [
             0.8888888888888888,
             "#fdca26"
            ],
            [
             1,
             "#f0f921"
            ]
           ]
          },
          "colorway": [
           "#636efa",
           "#EF553B",
           "#00cc96",
           "#ab63fa",
           "#FFA15A",
           "#19d3f3",
           "#FF6692",
           "#B6E880",
           "#FF97FF",
           "#FECB52"
          ],
          "font": {
           "color": "#2a3f5f"
          },
          "geo": {
           "bgcolor": "white",
           "lakecolor": "white",
           "landcolor": "#E5ECF6",
           "showlakes": true,
           "showland": true,
           "subunitcolor": "white"
          },
          "hoverlabel": {
           "align": "left"
          },
          "hovermode": "closest",
          "mapbox": {
           "style": "light"
          },
          "paper_bgcolor": "white",
          "plot_bgcolor": "#E5ECF6",
          "polar": {
           "angularaxis": {
            "gridcolor": "white",
            "linecolor": "white",
            "ticks": ""
           },
           "bgcolor": "#E5ECF6",
           "radialaxis": {
            "gridcolor": "white",
            "linecolor": "white",
            "ticks": ""
           }
          },
          "scene": {
           "xaxis": {
            "backgroundcolor": "#E5ECF6",
            "gridcolor": "white",
            "gridwidth": 2,
            "linecolor": "white",
            "showbackground": true,
            "ticks": "",
            "zerolinecolor": "white"
           },
           "yaxis": {
            "backgroundcolor": "#E5ECF6",
            "gridcolor": "white",
            "gridwidth": 2,
            "linecolor": "white",
            "showbackground": true,
            "ticks": "",
            "zerolinecolor": "white"
           },
           "zaxis": {
            "backgroundcolor": "#E5ECF6",
            "gridcolor": "white",
            "gridwidth": 2,
            "linecolor": "white",
            "showbackground": true,
            "ticks": "",
            "zerolinecolor": "white"
           }
          },
          "shapedefaults": {
           "line": {
            "color": "#2a3f5f"
           }
          },
          "ternary": {
           "aaxis": {
            "gridcolor": "white",
            "linecolor": "white",
            "ticks": ""
           },
           "baxis": {
            "gridcolor": "white",
            "linecolor": "white",
            "ticks": ""
           },
           "bgcolor": "#E5ECF6",
           "caxis": {
            "gridcolor": "white",
            "linecolor": "white",
            "ticks": ""
           }
          },
          "title": {
           "x": 0.05
          },
          "xaxis": {
           "automargin": true,
           "gridcolor": "white",
           "linecolor": "white",
           "ticks": "",
           "title": {
            "standoff": 15
           },
           "zerolinecolor": "white",
           "zerolinewidth": 2
          },
          "yaxis": {
           "automargin": true,
           "gridcolor": "white",
           "linecolor": "white",
           "ticks": "",
           "title": {
            "standoff": 15
           },
           "zerolinecolor": "white",
           "zerolinewidth": 2
          }
         }
        },
        "title": {
         "font": {
          "color": "#e63f50",
          "family": "Arial",
          "size": 25
         },
         "text": "Goals Per Season"
        },
        "xaxis": {
         "anchor": "y",
         "color": "white",
         "domain": [
          0,
          1
         ],
         "showgrid": false,
         "tickangle": 0,
         "title": {
          "text": "Season"
         }
        },
        "yaxis": {
         "anchor": "x",
         "domain": [
          0,
          1
         ],
         "showgrid": false,
         "title": {
          "text": "counts"
         },
         "visible": false
        }
       }
      }
     },
     "metadata": {},
     "output_type": "display_data"
    }
   ],
   "source": [
    "goals_season = df.groupby(\"Season\").size().reset_index(name='counts')\n",
    "\n",
    "fig = px.line(goals_season, x='Season', y='counts',  markers=True)\n",
    "fig.update_yaxes(showgrid=False, visible=False)\n",
    "fig.update_xaxes(showgrid=False)\n",
    "fig.update_traces(marker=dict(line=dict(color='white', width=2)),\n",
    "                  marker_color = colors[3], line_color=colors[3], \n",
    "                        line_width=5)\n",
    "fig.update_layout(margin=dict(t=80, b=100, l=90, r=60),\n",
    "                        title_text=\"Goals Per Season\",\n",
    "                        xaxis_tickangle=360,\n",
    "                        xaxis=dict(color=\"white\"),\n",
    "                        plot_bgcolor=colors[1], paper_bgcolor=colors[1],\n",
    "                        title_font=dict(size=25, color=colors[3], family=\"Arial\"),\n",
    "                        font=dict(color='black'),\n",
    "                        legend=dict(font=dict(\n",
    "                                family=\"Courier\",\n",
    "                                size=12,\n",
    "                            color=\"white\",\n",
    "                        ))\n",
    "                        )\n",
    "fig.add_annotation(x=\"14/15\", y=63,\n",
    "            text=\"Highest Goals Count\",\n",
    "            showarrow=True,\n",
    "            font=dict(\n",
    "                family=\"sans serif\",\n",
    "                size=18,\n",
    "                color=colors[4]\n",
    "                    ),\n",
    "           arrowcolor=\"white\",\n",
    "           arrowhead=1)\n",
    "fig.show()"
   ]
  },
  {
   "cell_type": "code",
   "execution_count": 24,
   "metadata": {},
   "outputs": [
    {
     "data": {
      "application/vnd.plotly.v1+json": {
       "config": {
        "plotlyServerURL": "https://plot.ly"
       },
       "data": [
        {
         "hovertemplate": "Season=%{x}<br>Minute=%{y}<extra></extra>",
         "legendgroup": "",
         "marker": {
          "color": "#FCDDB0",
          "size": 8,
          "symbol": "circle"
         },
         "mode": "markers",
         "name": "",
         "orientation": "v",
         "showlegend": false,
         "type": "scatter",
         "x": [
          "02/03",
          "02/03",
          "02/03",
          "02/03",
          "02/03",
          "03/04",
          "03/04",
          "03/04",
          "03/04",
          "03/04",
          "03/04",
          "04/05",
          "04/05",
          "04/05",
          "04/05",
          "04/05",
          "04/05",
          "04/05",
          "04/05",
          "04/05",
          "05/06",
          "05/06",
          "05/06",
          "05/06",
          "05/06",
          "05/06",
          "05/06",
          "05/06",
          "05/06",
          "05/06",
          "05/06",
          "05/06",
          "06/07",
          "06/07",
          "06/07",
          "06/07",
          "06/07",
          "06/07",
          "06/07",
          "06/07",
          "06/07",
          "06/07",
          "06/07",
          "06/07",
          "06/07",
          "06/07",
          "06/07",
          "06/07",
          "06/07",
          "06/07",
          "06/07",
          "06/07",
          "06/07",
          "06/07",
          "06/07",
          "07/08",
          "07/08",
          "07/08",
          "07/08",
          "07/08",
          "07/08",
          "07/08",
          "07/08",
          "07/08",
          "07/08",
          "07/08",
          "07/08",
          "07/08",
          "07/08",
          "07/08",
          "07/08",
          "07/08",
          "07/08",
          "07/08",
          "07/08",
          "07/08",
          "07/08",
          "07/08",
          "07/08",
          "07/08",
          "07/08",
          "07/08",
          "07/08",
          "07/08",
          "07/08",
          "07/08",
          "07/08",
          "07/08",
          "07/08",
          "07/08",
          "07/08",
          "07/08",
          "07/08",
          "07/08",
          "07/08",
          "07/08",
          "07/08",
          "08/09",
          "08/09",
          "08/09",
          "08/09",
          "08/09",
          "08/09",
          "08/09",
          "08/09",
          "08/09",
          "08/09",
          "08/09",
          "08/09",
          "08/09",
          "08/09",
          "08/09",
          "08/09",
          "08/09",
          "08/09",
          "08/09",
          "08/09",
          "08/09",
          "08/09",
          "08/09",
          "08/09",
          "08/09",
          "08/09",
          "09/10",
          "09/10",
          "09/10",
          "09/10",
          "09/10",
          "09/10",
          "09/10",
          "09/10",
          "09/10",
          "09/10",
          "09/10",
          "09/10",
          "09/10",
          "09/10",
          "09/10",
          "09/10",
          "09/10",
          "09/10",
          "09/10",
          "09/10",
          "09/10",
          "09/10",
          "09/10",
          "09/10",
          "09/10",
          "09/10",
          "09/10",
          "09/10",
          "09/10",
          "09/10",
          "09/10",
          "09/10",
          "09/10",
          "10/11",
          "10/11",
          "10/11",
          "10/11",
          "10/11",
          "10/11",
          "10/11",
          "10/11",
          "10/11",
          "10/11",
          "10/11",
          "10/11",
          "10/11",
          "10/11",
          "10/11",
          "10/11",
          "10/11",
          "10/11",
          "10/11",
          "10/11",
          "10/11",
          "10/11",
          "10/11",
          "10/11",
          "10/11",
          "10/11",
          "10/11",
          "10/11",
          "10/11",
          "10/11",
          "10/11",
          "10/11",
          "10/11",
          "10/11",
          "10/11",
          "10/11",
          "10/11",
          "10/11",
          "10/11",
          "10/11",
          "10/11",
          "10/11",
          "10/11",
          "10/11",
          "10/11",
          "10/11",
          "10/11",
          "10/11",
          "10/11",
          "10/11",
          "10/11",
          "10/11",
          "10/11",
          "11/12",
          "11/12",
          "11/12",
          "11/12",
          "11/12",
          "11/12",
          "11/12",
          "11/12",
          "11/12",
          "11/12",
          "11/12",
          "11/12",
          "11/12",
          "11/12",
          "11/12",
          "11/12",
          "11/12",
          "11/12",
          "11/12",
          "11/12",
          "11/12",
          "11/12",
          "11/12",
          "11/12",
          "11/12",
          "11/12",
          "11/12",
          "11/12",
          "11/12",
          "11/12",
          "11/12",
          "11/12",
          "11/12",
          "11/12",
          "11/12",
          "11/12",
          "11/12",
          "11/12",
          "11/12",
          "11/12",
          "11/12",
          "11/12",
          "11/12",
          "11/12",
          "11/12",
          "11/12",
          "11/12",
          "11/12",
          "11/12",
          "11/12",
          "11/12",
          "11/12",
          "11/12",
          "11/12",
          "11/12",
          "11/12",
          "11/12",
          "11/12",
          "11/12",
          "11/12",
          "12/13",
          "12/13",
          "12/13",
          "12/13",
          "12/13",
          "12/13",
          "12/13",
          "12/13",
          "12/13",
          "12/13",
          "12/13",
          "12/13",
          "12/13",
          "12/13",
          "12/13",
          "12/13",
          "12/13",
          "12/13",
          "12/13",
          "12/13",
          "12/13",
          "12/13",
          "12/13",
          "12/13",
          "12/13",
          "12/13",
          "12/13",
          "12/13",
          "12/13",
          "12/13",
          "12/13",
          "12/13",
          "12/13",
          "12/13",
          "12/13",
          "12/13",
          "12/13",
          "12/13",
          "12/13",
          "12/13",
          "12/13",
          "12/13",
          "12/13",
          "12/13",
          "12/13",
          "12/13",
          "12/13",
          "12/13",
          "12/13",
          "12/13",
          "12/13",
          "12/13",
          "12/13",
          "12/13",
          "12/13",
          "13/14",
          "13/14",
          "13/14",
          "13/14",
          "13/14",
          "13/14",
          "13/14",
          "13/14",
          "13/14",
          "13/14",
          "13/14",
          "13/14",
          "13/14",
          "13/14",
          "13/14",
          "13/14",
          "13/14",
          "13/14",
          "13/14",
          "13/14",
          "13/14",
          "13/14",
          "13/14",
          "13/14",
          "13/14",
          "13/14",
          "13/14",
          "13/14",
          "13/14",
          "13/14",
          "13/14",
          "13/14",
          "13/14",
          "13/14",
          "13/14",
          "13/14",
          "13/14",
          "13/14",
          "13/14",
          "13/14",
          "13/14",
          "13/14",
          "13/14",
          "13/14",
          "13/14",
          "13/14",
          "13/14",
          "13/14",
          "13/14",
          "13/14",
          "13/14",
          "14/15",
          "14/15",
          "14/15",
          "14/15",
          "14/15",
          "14/15",
          "14/15",
          "14/15",
          "14/15",
          "14/15",
          "14/15",
          "14/15",
          "14/15",
          "14/15",
          "14/15",
          "14/15",
          "14/15",
          "14/15",
          "14/15",
          "14/15",
          "14/15",
          "14/15",
          "14/15",
          "14/15",
          "14/15",
          "14/15",
          "14/15",
          "14/15",
          "14/15",
          "14/15",
          "14/15",
          "14/15",
          "14/15",
          "14/15",
          "14/15",
          "14/15",
          "14/15",
          "14/15",
          "14/15",
          "14/15",
          "14/15",
          "14/15",
          "14/15",
          "14/15",
          "14/15",
          "14/15",
          "14/15",
          "14/15",
          "14/15",
          "14/15",
          "14/15",
          "14/15",
          "14/15",
          "14/15",
          "14/15",
          "14/15",
          "14/15",
          "14/15",
          "14/15",
          "14/15",
          "14/15",
          "15/16",
          "15/16",
          "15/16",
          "15/16",
          "15/16",
          "15/16",
          "15/16",
          "15/16",
          "15/16",
          "15/16",
          "15/16",
          "15/16",
          "15/16",
          "15/16",
          "15/16",
          "15/16",
          "15/16",
          "15/16",
          "15/16",
          "15/16",
          "15/16",
          "15/16",
          "15/16",
          "15/16",
          "15/16",
          "15/16",
          "15/16",
          "15/16",
          "15/16",
          "15/16",
          "15/16",
          "15/16",
          "15/16",
          "15/16",
          "15/16",
          "15/16",
          "15/16",
          "15/16",
          "15/16",
          "15/16",
          "15/16",
          "15/16",
          "15/16",
          "15/16",
          "15/16",
          "15/16",
          "15/16",
          "15/16",
          "15/16",
          "15/16",
          "15/16",
          "16/17",
          "16/17",
          "16/17",
          "16/17",
          "16/17",
          "16/17",
          "16/17",
          "16/17",
          "16/17",
          "16/17",
          "16/17",
          "16/17",
          "16/17",
          "16/17",
          "16/17",
          "16/17",
          "16/17",
          "16/17",
          "16/17",
          "16/17",
          "16/17",
          "16/17",
          "16/17",
          "16/17",
          "16/17",
          "16/17",
          "16/17",
          "16/17",
          "16/17",
          "16/17",
          "16/17",
          "16/17",
          "16/17",
          "16/17",
          "16/17",
          "16/17",
          "16/17",
          "16/17",
          "16/17",
          "16/17",
          "16/17",
          "16/17",
          "17/18",
          "17/18",
          "17/18",
          "17/18",
          "17/18",
          "17/18",
          "17/18",
          "17/18",
          "17/18",
          "17/18",
          "17/18",
          "17/18",
          "17/18",
          "17/18",
          "17/18",
          "17/18",
          "17/18",
          "17/18",
          "17/18",
          "17/18",
          "17/18",
          "17/18",
          "17/18",
          "17/18",
          "17/18",
          "17/18",
          "17/18",
          "17/18",
          "17/18",
          "17/18",
          "17/18",
          "17/18",
          "17/18",
          "17/18",
          "17/18",
          "17/18",
          "17/18",
          "17/18",
          "17/18",
          "17/18",
          "17/18",
          "17/18",
          "17/18",
          "17/18",
          "18/19",
          "18/19",
          "18/19",
          "18/19",
          "18/19",
          "18/19",
          "18/19",
          "18/19",
          "18/19",
          "18/19",
          "18/19",
          "18/19",
          "18/19",
          "18/19",
          "18/19",
          "18/19",
          "18/19",
          "18/19",
          "18/19",
          "18/19",
          "18/19",
          "18/19",
          "18/19",
          "18/19",
          "18/19",
          "18/19",
          "18/19",
          "18/19",
          "19/20",
          "19/20",
          "19/20",
          "19/20",
          "19/20",
          "19/20",
          "19/20",
          "19/20",
          "19/20",
          "19/20",
          "19/20",
          "19/20",
          "19/20",
          "19/20",
          "19/20",
          "19/20",
          "19/20",
          "19/20",
          "19/20",
          "19/20",
          "19/20",
          "19/20",
          "19/20",
          "19/20",
          "19/20",
          "19/20",
          "19/20",
          "19/20",
          "19/20",
          "19/20",
          "19/20",
          "19/20",
          "19/20",
          "19/20",
          "19/20",
          "19/20",
          "19/20",
          "20/21",
          "20/21",
          "20/21",
          "20/21",
          "20/21",
          "20/21",
          "20/21",
          "20/21",
          "20/21",
          "20/21",
          "20/21",
          "20/21",
          "20/21",
          "20/21",
          "20/21",
          "20/21",
          "20/21",
          "20/21",
          "20/21",
          "20/21",
          "20/21",
          "20/21",
          "20/21",
          "20/21",
          "20/21",
          "20/21",
          "20/21",
          "20/21",
          "20/21",
          "20/21",
          "20/21",
          "20/21",
          "20/21",
          "20/21",
          "20/21",
          "20/21",
          "21/22",
          "21/22",
          "21/22",
          "21/22",
          "21/22",
          "21/22",
          "21/22",
          "21/22",
          "21/22",
          "21/22",
          "21/22",
          "21/22",
          "21/22",
          "21/22",
          "21/22",
          "21/22",
          "21/22",
          "21/22",
          "21/22",
          "21/22",
          "21/22",
          "21/22",
          "21/22",
          "21/22",
          "22/23",
          "22/23",
          "22/23"
         ],
         "xaxis": "x",
         "y": [
          "34",
          "90+5",
          "88",
          "67",
          "13",
          "80",
          "74",
          "89",
          "60",
          "4",
          "44",
          "87",
          "9",
          "8",
          "54",
          "58",
          "58",
          "45+1",
          "21",
          "76",
          "63",
          "90",
          "12",
          "68",
          "90",
          "14",
          "87",
          "38",
          "45",
          "59",
          "74",
          "23",
          "19",
          "73",
          "82",
          "10",
          "39",
          "84",
          "58",
          "85",
          "47",
          "50",
          "58",
          "77",
          "34",
          "12",
          "45",
          "88",
          "68",
          "76",
          "44",
          "49",
          "28",
          "5",
          "34",
          "62",
          "51",
          "59",
          "76",
          "41",
          "68",
          "82",
          "88",
          "34",
          "35",
          "90+3",
          "10",
          "58",
          "90",
          "22",
          "87",
          "45",
          "14",
          "81",
          "48",
          "70",
          "88",
          "90+2",
          "69",
          "88",
          "10",
          "12",
          "45",
          "56",
          "41",
          "76",
          "8",
          "19",
          "79",
          "16",
          "39",
          "9",
          "53",
          "3",
          "24",
          "32",
          "26",
          "25",
          "59",
          "69",
          "14",
          "30",
          "3",
          "43",
          "3",
          "88",
          "45+1",
          "89",
          "65",
          "73",
          "43",
          "68",
          "60",
          "49",
          "22",
          "11",
          "80",
          "6",
          "57",
          "68",
          "11",
          "61",
          "17",
          "35",
          "90",
          "27",
          "89",
          "1",
          "75",
          "2",
          "58",
          "64",
          "84",
          "5",
          "80",
          "50",
          "35",
          "39",
          "69",
          "71",
          "18",
          "78",
          "59",
          "6",
          "29",
          "13",
          "36",
          "23",
          "26",
          "77",
          "25",
          "89",
          "26",
          "56",
          "71",
          "21",
          "28",
          "4",
          "89",
          "45",
          "50",
          "13",
          "15",
          "26",
          "47",
          "55",
          "82",
          "86",
          "76",
          "30",
          "62",
          "90+1",
          "70",
          "81",
          "72",
          "86",
          "49",
          "43",
          "44",
          "71",
          "73",
          "11",
          "57",
          "10",
          "45",
          "79",
          "60",
          "22",
          "20",
          "42",
          "50",
          "67",
          "76",
          "87",
          "70",
          "50",
          "82",
          "103",
          "30",
          "64",
          "70",
          "76",
          "23",
          "57",
          "90+1",
          "22",
          "90",
          "4",
          "76",
          "20",
          "23",
          "70",
          "86",
          "59",
          "39",
          "51",
          "84",
          "25",
          "24",
          "28",
          "38",
          "25",
          "69",
          "23",
          "55",
          "58",
          "79",
          "24",
          "82",
          "65",
          "74",
          "10",
          "41",
          "86",
          "89",
          "11",
          "46",
          "67",
          "68",
          "48",
          "45",
          "50",
          "57",
          "6",
          "28",
          "53",
          "23",
          "52",
          "73",
          "55",
          "90+4",
          "61",
          "32",
          "55",
          "37",
          "70",
          "26",
          "75",
          "24",
          "67",
          "82",
          "74",
          "73",
          "6",
          "14",
          "19",
          "49",
          "81",
          "18",
          "55",
          "19",
          "25",
          "53",
          "90",
          "69",
          "23",
          "44",
          "84",
          "42",
          "79",
          "81",
          "22",
          "66",
          "67",
          "38",
          "22",
          "73",
          "20",
          "16",
          "13",
          "87",
          "45",
          "67",
          "70",
          "2",
          "24",
          "87",
          "35",
          "41",
          "62",
          "65",
          "72",
          "26",
          "46",
          "59",
          "30",
          "12",
          "57",
          "69",
          "61",
          "71",
          "52",
          "38",
          "9",
          "84",
          "8",
          "90+2",
          "2",
          "68",
          "43",
          "32",
          "70",
          "26",
          "14",
          "45",
          "64",
          "63",
          "66",
          "90",
          "34",
          "90",
          "51",
          "90+6",
          "21",
          "65",
          "90+4",
          "90+1",
          "4",
          "29",
          "31",
          "60",
          "71",
          "3",
          "48",
          "52",
          "12",
          "27",
          "76",
          "3",
          "48",
          "40",
          "82",
          "90",
          "22",
          "10",
          "57",
          "6",
          "15",
          "52",
          "89",
          "82",
          "11",
          "23",
          "22",
          "74",
          "55",
          "14",
          "15",
          "57",
          "6",
          "52",
          "34",
          "90",
          "90",
          "120",
          "30",
          "49",
          "90",
          "25",
          "31",
          "29",
          "41",
          "78",
          "28",
          "32",
          "80",
          "90",
          "40",
          "25",
          "3",
          "55",
          "89",
          "13",
          "61",
          "23",
          "35",
          "2",
          "83",
          "43",
          "83",
          "35",
          "36",
          "65",
          "81",
          "20",
          "81",
          "89",
          "14",
          "54",
          "63",
          "79",
          "26",
          "69",
          "52",
          "25",
          "45",
          "31",
          "30",
          "36",
          "38",
          "54",
          "90",
          "68",
          "21",
          "90+2",
          "36",
          "37",
          "69",
          "27",
          "23",
          "59",
          "83",
          "90+1",
          "13",
          "32",
          "34",
          "7",
          "17",
          "20",
          "62",
          "81",
          "56",
          "64",
          "82",
          "29",
          "90",
          "30",
          "8",
          "14",
          "18",
          "70",
          "82",
          "38",
          "39",
          "47",
          "50",
          "59",
          "30",
          "54",
          "42",
          "68",
          "9",
          "18",
          "12",
          "45",
          "82",
          "3",
          "87",
          "57",
          "33",
          "34",
          "50",
          "58",
          "64",
          "76",
          "64",
          "64",
          "85",
          "19",
          "16",
          "17",
          "77",
          "90+2",
          "26",
          "59",
          "8",
          "25",
          "6",
          "89",
          "17",
          "78",
          "17",
          "33",
          "88",
          "23",
          "71",
          "77",
          "5",
          "18",
          "90+3",
          "60",
          "97",
          "104",
          "27",
          "67",
          "62",
          "51",
          "24",
          "44",
          "74",
          "86",
          "89",
          "41",
          "47",
          "77",
          "76",
          "105",
          "109",
          "27",
          "10",
          "73",
          "86",
          "23",
          "78",
          "10",
          "48",
          "2",
          "20",
          "64",
          "80",
          "12",
          "51",
          "49",
          "79",
          "85",
          "43",
          "80",
          "49",
          "54",
          "76",
          "12",
          "23",
          "31",
          "53",
          "53",
          "78",
          "84",
          "16",
          "38",
          "27",
          "37",
          "80",
          "45",
          "83",
          "65",
          "44",
          "61",
          "45+1",
          "78",
          "51",
          "33",
          "84",
          "11",
          "47",
          "64",
          "90+1",
          "3",
          "64",
          "53",
          "90+7",
          "87",
          "14",
          "32",
          "50",
          "65",
          "81",
          "37",
          "18",
          "54",
          "70",
          "65",
          "81",
          "29",
          "79",
          "70",
          "78",
          "2",
          "65",
          "61",
          "88",
          "36",
          "66",
          "70",
          "63",
          "27",
          "49",
          "86",
          "45",
          "28",
          "62",
          "84",
          "62",
          "49",
          "78",
          "89",
          "19",
          "90+6",
          "68",
          "25",
          "75",
          "9",
          "37",
          "45",
          "49",
          "67",
          "82",
          "10",
          "43",
          "58",
          "26",
          "90",
          "40",
          "80",
          "65",
          "90+1",
          "39",
          "23",
          "62",
          "56",
          "61",
          "53",
          "55",
          "90",
          "51",
          "54",
          "45+7",
          "43",
          "60",
          "88",
          "44",
          "69",
          "59",
          "76",
          "15",
          "38",
          "42",
          "35",
          "57",
          "13",
          "52",
          "78",
          "89",
          "26",
          "48",
          "31",
          "70",
          "90+2",
          "64",
          "26",
          "35",
          "13",
          "38",
          "45+1",
          "49",
          "89",
          "10",
          "25",
          "32",
          "79",
          "13",
          "83",
          "89",
          "45",
          "24",
          "45+2",
          "62",
          "13",
          "35",
          "90+5",
          "81",
          "39",
          "45+1",
          "90+1",
          "78",
          "52",
          "70",
          "75",
          "35",
          "51",
          "12",
          "38",
          "81",
          "7",
          "32",
          "76",
          "34",
          "62",
          "61",
          "39",
          "44",
          "81"
         ],
         "yaxis": "y"
        }
       ],
       "layout": {
        "annotations": [
         {
          "font": {
           "color": "White",
           "size": 11
          },
          "showarrow": false,
          "text": "Last Minutes Goals",
          "x": 1,
          "xanchor": "right",
          "xref": "x domain",
          "y": 123,
          "yanchor": "top",
          "yref": "y"
         },
         {
          "font": {
           "color": "White",
           "size": 11
          },
          "showarrow": false,
          "text": "Early Minutes Goals",
          "x": 1,
          "xanchor": "right",
          "xref": "x domain",
          "y": 15,
          "yanchor": "top",
          "yref": "y"
         }
        ],
        "images": [
         {
          "opacity": 0.08,
          "sizex": 0.9,
          "sizey": 1,
          "source": "https://i.imgur.com/z6Qe9hm.png",
          "xanchor": "left",
          "xref": "paper",
          "y": 0.8,
          "yanchor": "top",
          "yref": "paper"
         }
        ],
        "legend": {
         "font": {
          "color": "white",
          "family": "Courier",
          "size": 12
         },
         "tracegroupgap": 0
        },
        "margin": {
         "t": 60
        },
        "paper_bgcolor": "#3b3745",
        "plot_bgcolor": "#3b3745",
        "shapes": [
         {
          "fillcolor": "#e63f50",
          "opacity": 0.25,
          "type": "rect",
          "x0": 0,
          "x1": 1,
          "xref": "x domain",
          "y0": 90,
          "y1": 123,
          "yref": "y"
         },
         {
          "fillcolor": "#d5792c",
          "opacity": 0.25,
          "type": "rect",
          "x0": 0,
          "x1": 1,
          "xref": "x domain",
          "y0": 0,
          "y1": 15,
          "yref": "y"
         }
        ],
        "template": {
         "data": {
          "bar": [
           {
            "error_x": {
             "color": "#2a3f5f"
            },
            "error_y": {
             "color": "#2a3f5f"
            },
            "marker": {
             "line": {
              "color": "#E5ECF6",
              "width": 0.5
             },
             "pattern": {
              "fillmode": "overlay",
              "size": 10,
              "solidity": 0.2
             }
            },
            "type": "bar"
           }
          ],
          "barpolar": [
           {
            "marker": {
             "line": {
              "color": "#E5ECF6",
              "width": 0.5
             },
             "pattern": {
              "fillmode": "overlay",
              "size": 10,
              "solidity": 0.2
             }
            },
            "type": "barpolar"
           }
          ],
          "carpet": [
           {
            "aaxis": {
             "endlinecolor": "#2a3f5f",
             "gridcolor": "white",
             "linecolor": "white",
             "minorgridcolor": "white",
             "startlinecolor": "#2a3f5f"
            },
            "baxis": {
             "endlinecolor": "#2a3f5f",
             "gridcolor": "white",
             "linecolor": "white",
             "minorgridcolor": "white",
             "startlinecolor": "#2a3f5f"
            },
            "type": "carpet"
           }
          ],
          "choropleth": [
           {
            "colorbar": {
             "outlinewidth": 0,
             "ticks": ""
            },
            "type": "choropleth"
           }
          ],
          "contour": [
           {
            "colorbar": {
             "outlinewidth": 0,
             "ticks": ""
            },
            "colorscale": [
             [
              0,
              "#0d0887"
             ],
             [
              0.1111111111111111,
              "#46039f"
             ],
             [
              0.2222222222222222,
              "#7201a8"
             ],
             [
              0.3333333333333333,
              "#9c179e"
             ],
             [
              0.4444444444444444,
              "#bd3786"
             ],
             [
              0.5555555555555556,
              "#d8576b"
             ],
             [
              0.6666666666666666,
              "#ed7953"
             ],
             [
              0.7777777777777778,
              "#fb9f3a"
             ],
             [
              0.8888888888888888,
              "#fdca26"
             ],
             [
              1,
              "#f0f921"
             ]
            ],
            "type": "contour"
           }
          ],
          "contourcarpet": [
           {
            "colorbar": {
             "outlinewidth": 0,
             "ticks": ""
            },
            "type": "contourcarpet"
           }
          ],
          "heatmap": [
           {
            "colorbar": {
             "outlinewidth": 0,
             "ticks": ""
            },
            "colorscale": [
             [
              0,
              "#0d0887"
             ],
             [
              0.1111111111111111,
              "#46039f"
             ],
             [
              0.2222222222222222,
              "#7201a8"
             ],
             [
              0.3333333333333333,
              "#9c179e"
             ],
             [
              0.4444444444444444,
              "#bd3786"
             ],
             [
              0.5555555555555556,
              "#d8576b"
             ],
             [
              0.6666666666666666,
              "#ed7953"
             ],
             [
              0.7777777777777778,
              "#fb9f3a"
             ],
             [
              0.8888888888888888,
              "#fdca26"
             ],
             [
              1,
              "#f0f921"
             ]
            ],
            "type": "heatmap"
           }
          ],
          "heatmapgl": [
           {
            "colorbar": {
             "outlinewidth": 0,
             "ticks": ""
            },
            "colorscale": [
             [
              0,
              "#0d0887"
             ],
             [
              0.1111111111111111,
              "#46039f"
             ],
             [
              0.2222222222222222,
              "#7201a8"
             ],
             [
              0.3333333333333333,
              "#9c179e"
             ],
             [
              0.4444444444444444,
              "#bd3786"
             ],
             [
              0.5555555555555556,
              "#d8576b"
             ],
             [
              0.6666666666666666,
              "#ed7953"
             ],
             [
              0.7777777777777778,
              "#fb9f3a"
             ],
             [
              0.8888888888888888,
              "#fdca26"
             ],
             [
              1,
              "#f0f921"
             ]
            ],
            "type": "heatmapgl"
           }
          ],
          "histogram": [
           {
            "marker": {
             "pattern": {
              "fillmode": "overlay",
              "size": 10,
              "solidity": 0.2
             }
            },
            "type": "histogram"
           }
          ],
          "histogram2d": [
           {
            "colorbar": {
             "outlinewidth": 0,
             "ticks": ""
            },
            "colorscale": [
             [
              0,
              "#0d0887"
             ],
             [
              0.1111111111111111,
              "#46039f"
             ],
             [
              0.2222222222222222,
              "#7201a8"
             ],
             [
              0.3333333333333333,
              "#9c179e"
             ],
             [
              0.4444444444444444,
              "#bd3786"
             ],
             [
              0.5555555555555556,
              "#d8576b"
             ],
             [
              0.6666666666666666,
              "#ed7953"
             ],
             [
              0.7777777777777778,
              "#fb9f3a"
             ],
             [
              0.8888888888888888,
              "#fdca26"
             ],
             [
              1,
              "#f0f921"
             ]
            ],
            "type": "histogram2d"
           }
          ],
          "histogram2dcontour": [
           {
            "colorbar": {
             "outlinewidth": 0,
             "ticks": ""
            },
            "colorscale": [
             [
              0,
              "#0d0887"
             ],
             [
              0.1111111111111111,
              "#46039f"
             ],
             [
              0.2222222222222222,
              "#7201a8"
             ],
             [
              0.3333333333333333,
              "#9c179e"
             ],
             [
              0.4444444444444444,
              "#bd3786"
             ],
             [
              0.5555555555555556,
              "#d8576b"
             ],
             [
              0.6666666666666666,
              "#ed7953"
             ],
             [
              0.7777777777777778,
              "#fb9f3a"
             ],
             [
              0.8888888888888888,
              "#fdca26"
             ],
             [
              1,
              "#f0f921"
             ]
            ],
            "type": "histogram2dcontour"
           }
          ],
          "mesh3d": [
           {
            "colorbar": {
             "outlinewidth": 0,
             "ticks": ""
            },
            "type": "mesh3d"
           }
          ],
          "parcoords": [
           {
            "line": {
             "colorbar": {
              "outlinewidth": 0,
              "ticks": ""
             }
            },
            "type": "parcoords"
           }
          ],
          "pie": [
           {
            "automargin": true,
            "type": "pie"
           }
          ],
          "scatter": [
           {
            "marker": {
             "colorbar": {
              "outlinewidth": 0,
              "ticks": ""
             }
            },
            "type": "scatter"
           }
          ],
          "scatter3d": [
           {
            "line": {
             "colorbar": {
              "outlinewidth": 0,
              "ticks": ""
             }
            },
            "marker": {
             "colorbar": {
              "outlinewidth": 0,
              "ticks": ""
             }
            },
            "type": "scatter3d"
           }
          ],
          "scattercarpet": [
           {
            "marker": {
             "colorbar": {
              "outlinewidth": 0,
              "ticks": ""
             }
            },
            "type": "scattercarpet"
           }
          ],
          "scattergeo": [
           {
            "marker": {
             "colorbar": {
              "outlinewidth": 0,
              "ticks": ""
             }
            },
            "type": "scattergeo"
           }
          ],
          "scattergl": [
           {
            "marker": {
             "colorbar": {
              "outlinewidth": 0,
              "ticks": ""
             }
            },
            "type": "scattergl"
           }
          ],
          "scattermapbox": [
           {
            "marker": {
             "colorbar": {
              "outlinewidth": 0,
              "ticks": ""
             }
            },
            "type": "scattermapbox"
           }
          ],
          "scatterpolar": [
           {
            "marker": {
             "colorbar": {
              "outlinewidth": 0,
              "ticks": ""
             }
            },
            "type": "scatterpolar"
           }
          ],
          "scatterpolargl": [
           {
            "marker": {
             "colorbar": {
              "outlinewidth": 0,
              "ticks": ""
             }
            },
            "type": "scatterpolargl"
           }
          ],
          "scatterternary": [
           {
            "marker": {
             "colorbar": {
              "outlinewidth": 0,
              "ticks": ""
             }
            },
            "type": "scatterternary"
           }
          ],
          "surface": [
           {
            "colorbar": {
             "outlinewidth": 0,
             "ticks": ""
            },
            "colorscale": [
             [
              0,
              "#0d0887"
             ],
             [
              0.1111111111111111,
              "#46039f"
             ],
             [
              0.2222222222222222,
              "#7201a8"
             ],
             [
              0.3333333333333333,
              "#9c179e"
             ],
             [
              0.4444444444444444,
              "#bd3786"
             ],
             [
              0.5555555555555556,
              "#d8576b"
             ],
             [
              0.6666666666666666,
              "#ed7953"
             ],
             [
              0.7777777777777778,
              "#fb9f3a"
             ],
             [
              0.8888888888888888,
              "#fdca26"
             ],
             [
              1,
              "#f0f921"
             ]
            ],
            "type": "surface"
           }
          ],
          "table": [
           {
            "cells": {
             "fill": {
              "color": "#EBF0F8"
             },
             "line": {
              "color": "white"
             }
            },
            "header": {
             "fill": {
              "color": "#C8D4E3"
             },
             "line": {
              "color": "white"
             }
            },
            "type": "table"
           }
          ]
         },
         "layout": {
          "annotationdefaults": {
           "arrowcolor": "#2a3f5f",
           "arrowhead": 0,
           "arrowwidth": 1
          },
          "autotypenumbers": "strict",
          "coloraxis": {
           "colorbar": {
            "outlinewidth": 0,
            "ticks": ""
           }
          },
          "colorscale": {
           "diverging": [
            [
             0,
             "#8e0152"
            ],
            [
             0.1,
             "#c51b7d"
            ],
            [
             0.2,
             "#de77ae"
            ],
            [
             0.3,
             "#f1b6da"
            ],
            [
             0.4,
             "#fde0ef"
            ],
            [
             0.5,
             "#f7f7f7"
            ],
            [
             0.6,
             "#e6f5d0"
            ],
            [
             0.7,
             "#b8e186"
            ],
            [
             0.8,
             "#7fbc41"
            ],
            [
             0.9,
             "#4d9221"
            ],
            [
             1,
             "#276419"
            ]
           ],
           "sequential": [
            [
             0,
             "#0d0887"
            ],
            [
             0.1111111111111111,
             "#46039f"
            ],
            [
             0.2222222222222222,
             "#7201a8"
            ],
            [
             0.3333333333333333,
             "#9c179e"
            ],
            [
             0.4444444444444444,
             "#bd3786"
            ],
            [
             0.5555555555555556,
             "#d8576b"
            ],
            [
             0.6666666666666666,
             "#ed7953"
            ],
            [
             0.7777777777777778,
             "#fb9f3a"
            ],
            [
             0.8888888888888888,
             "#fdca26"
            ],
            [
             1,
             "#f0f921"
            ]
           ],
           "sequentialminus": [
            [
             0,
             "#0d0887"
            ],
            [
             0.1111111111111111,
             "#46039f"
            ],
            [
             0.2222222222222222,
             "#7201a8"
            ],
            [
             0.3333333333333333,
             "#9c179e"
            ],
            [
             0.4444444444444444,
             "#bd3786"
            ],
            [
             0.5555555555555556,
             "#d8576b"
            ],
            [
             0.6666666666666666,
             "#ed7953"
            ],
            [
             0.7777777777777778,
             "#fb9f3a"
            ],
            [
             0.8888888888888888,
             "#fdca26"
            ],
            [
             1,
             "#f0f921"
            ]
           ]
          },
          "colorway": [
           "#636efa",
           "#EF553B",
           "#00cc96",
           "#ab63fa",
           "#FFA15A",
           "#19d3f3",
           "#FF6692",
           "#B6E880",
           "#FF97FF",
           "#FECB52"
          ],
          "font": {
           "color": "#2a3f5f"
          },
          "geo": {
           "bgcolor": "white",
           "lakecolor": "white",
           "landcolor": "#E5ECF6",
           "showlakes": true,
           "showland": true,
           "subunitcolor": "white"
          },
          "hoverlabel": {
           "align": "left"
          },
          "hovermode": "closest",
          "mapbox": {
           "style": "light"
          },
          "paper_bgcolor": "white",
          "plot_bgcolor": "#E5ECF6",
          "polar": {
           "angularaxis": {
            "gridcolor": "white",
            "linecolor": "white",
            "ticks": ""
           },
           "bgcolor": "#E5ECF6",
           "radialaxis": {
            "gridcolor": "white",
            "linecolor": "white",
            "ticks": ""
           }
          },
          "scene": {
           "xaxis": {
            "backgroundcolor": "#E5ECF6",
            "gridcolor": "white",
            "gridwidth": 2,
            "linecolor": "white",
            "showbackground": true,
            "ticks": "",
            "zerolinecolor": "white"
           },
           "yaxis": {
            "backgroundcolor": "#E5ECF6",
            "gridcolor": "white",
            "gridwidth": 2,
            "linecolor": "white",
            "showbackground": true,
            "ticks": "",
            "zerolinecolor": "white"
           },
           "zaxis": {
            "backgroundcolor": "#E5ECF6",
            "gridcolor": "white",
            "gridwidth": 2,
            "linecolor": "white",
            "showbackground": true,
            "ticks": "",
            "zerolinecolor": "white"
           }
          },
          "shapedefaults": {
           "line": {
            "color": "#2a3f5f"
           }
          },
          "ternary": {
           "aaxis": {
            "gridcolor": "white",
            "linecolor": "white",
            "ticks": ""
           },
           "baxis": {
            "gridcolor": "white",
            "linecolor": "white",
            "ticks": ""
           },
           "bgcolor": "#E5ECF6",
           "caxis": {
            "gridcolor": "white",
            "linecolor": "white",
            "ticks": ""
           }
          },
          "title": {
           "x": 0.05
          },
          "xaxis": {
           "automargin": true,
           "gridcolor": "white",
           "linecolor": "white",
           "ticks": "",
           "title": {
            "standoff": 15
           },
           "zerolinecolor": "white",
           "zerolinewidth": 2
          },
          "yaxis": {
           "automargin": true,
           "gridcolor": "white",
           "linecolor": "white",
           "ticks": "",
           "title": {
            "standoff": 15
           },
           "zerolinecolor": "white",
           "zerolinewidth": 2
          }
         }
        },
        "title": {
         "font": {
          "color": "#cf1d2a",
          "family": "Arial",
          "size": 25
         },
         "text": "Time of Goals"
        },
        "xaxis": {
         "anchor": "y",
         "color": "white",
         "domain": [
          0,
          1
         ],
         "showgrid": false,
         "title": {
          "text": "Season"
         }
        },
        "yaxis": {
         "anchor": "x",
         "color": "white",
         "domain": [
          0,
          1
         ],
         "showgrid": false,
         "title": {
          "text": "Minute"
         }
        }
       }
      }
     },
     "metadata": {},
     "output_type": "display_data"
    }
   ],
   "source": [
    "fig = px.scatter(df, x=\"Season\", y=\"Minute\")\n",
    "fig.update_yaxes(showgrid=False)\n",
    "fig.update_xaxes(showgrid=False)\n",
    "\n",
    "fig.update_traces(marker=dict(size=8, color=colors[5]))\n",
    "\n",
    "# Add title and change display \n",
    "fig.update_layout(plot_bgcolor=\"#3b3745\",\n",
    "                  xaxis=dict(color=\"white\"),\n",
    "                  yaxis=dict(color=\"white\"),\n",
    "                  legend=dict(font=dict(\n",
    "                  family=\"Courier\",\n",
    "                  size=12,\n",
    "                  color=\"white\",)), \n",
    "                  title_text='Time of Goals', \n",
    "                  title_font=dict(size=25, color=colors[2], family=\"Arial\"),\n",
    "                  paper_bgcolor=\"#3b3745\", title_font_color=colors[2])\n",
    "\n",
    "# Make a horizontal highlight section\n",
    "fig.add_hrect(y0=90, y1=123, \n",
    "              annotation_text=\"Last Minutes Goals\",\n",
    "              annotation_position=\"top right\",  \n",
    "              annotation_font_size=11,\n",
    "              annotation_font_color=\"White\",\n",
    "              fillcolor=colors[3], opacity=0.25)\n",
    "\n",
    "# Make a horizontal highlight section\n",
    "fig.add_hrect(y0=0, y1=15, \n",
    "              annotation_text=\"Early Minutes Goals\",\n",
    "              annotation_position=\"top right\",  \n",
    "              annotation_font_size=11,\n",
    "              annotation_font_color=\"White\",\n",
    "              fillcolor=colors[4], opacity=0.25)\n",
    "\n",
    "# Add image\n",
    "fig.add_layout_image(\n",
    "    dict(\n",
    "        source=\"https://i.imgur.com/z6Qe9hm.png\",\n",
    "        xref=\"paper\", yref=\"paper\",\n",
    "        y=0.8,\n",
    "        opacity= 0.08,\n",
    "        sizex=0.9, sizey=1,\n",
    "        xanchor=\"left\", yanchor=\"top\"\n",
    "    )\n",
    ")\n",
    "fig.show()"
   ]
  }
 ],
 "metadata": {
  "kernelspec": {
   "display_name": "Python 3.9.12 ('base')",
   "language": "python",
   "name": "python3"
  },
  "language_info": {
   "codemirror_mode": {
    "name": "ipython",
    "version": 3
   },
   "file_extension": ".py",
   "mimetype": "text/x-python",
   "name": "python",
   "nbconvert_exporter": "python",
   "pygments_lexer": "ipython3",
   "version": "3.9.12"
  },
  "orig_nbformat": 4,
  "vscode": {
   "interpreter": {
    "hash": "40d3a090f54c6569ab1632332b64b2c03c39dcf918b08424e98f38b5ae0af88f"
   }
  }
 },
 "nbformat": 4,
 "nbformat_minor": 2
}
